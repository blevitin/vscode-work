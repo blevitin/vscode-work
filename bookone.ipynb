{
 "metadata": {
  "language_info": {
   "codemirror_mode": {
    "name": "ipython",
    "version": 3
   },
   "file_extension": ".py",
   "mimetype": "text/x-python",
   "name": "python",
   "nbconvert_exporter": "python",
   "pygments_lexer": "ipython3",
   "version": "3.9.2-final"
  },
  "orig_nbformat": 2,
  "kernelspec": {
   "name": "python3",
   "display_name": "Python 3.9.2 64-bit",
   "metadata": {
    "interpreter": {
     "hash": "30b1f7c4f9949fbba7c7c572299ffa59f7d2d0feec8769e4e7f7c4ec5abf78fc"
    }
   }
  }
 },
 "nbformat": 4,
 "nbformat_minor": 2,
 "cells": [
  {
   "cell_type": "code",
   "execution_count": 17,
   "metadata": {},
   "outputs": [],
   "source": [
    "import pandas as pd"
   ]
  },
  {
   "cell_type": "code",
   "execution_count": 18,
   "metadata": {},
   "outputs": [],
   "source": [
    "x = [1.0,2.0,3.0,4.0,5.0]\n",
    "y = [2.0,1.0,9.0,8.0,6.0]\n",
    "df = pd.DataFrame({\"x\": x, \"y\": y})"
   ]
  },
  {
   "cell_type": "code",
   "execution_count": 19,
   "metadata": {},
   "outputs": [],
   "source": [
    "df.to_json(\"mydata.json\", orient=\"records\")"
   ]
  },
  {
   "cell_type": "code",
   "execution_count": 20,
   "metadata": {},
   "outputs": [],
   "source": [
    "df2 = pd.read_json(\"https://data.nasa.gov/resource/2vr3-k9wn.json\")"
   ]
  },
  {
   "cell_type": "code",
   "execution_count": 21,
   "metadata": {},
   "outputs": [
    {
     "output_type": "execute_result",
     "data": {
      "text/plain": [
       "             designation           discovery_date  h_mag  moid_au  q_au_1  \\\n",
       "0     419880 (2011 AH37)  2011-01-07T00:00:00.000   19.7    0.035    0.84   \n",
       "1     419624 (2010 SO16)  2010-09-17T00:00:00.000   20.5    0.028    0.93   \n",
       "2    414772 (2010 OC103)  2010-07-28T00:00:00.000   19.0    0.333    0.39   \n",
       "3     414746 (2010 EH20)  2010-03-06T00:00:00.000   18.0    0.268    1.25   \n",
       "4    407324 (2010 OB101)  2010-07-18T00:00:00.000   20.7    0.111    0.77   \n",
       "..                   ...                      ...    ...      ...     ...   \n",
       "197           (2010 CO1)  2010-02-01T00:00:00.000   21.5    0.023    0.79   \n",
       "198     P/2010 B2 (WISE)  2010-01-22T00:00:00.000    NaN    0.630    1.62   \n",
       "199         (2010 AU118)  2010-01-13T00:00:00.000   17.7    0.147    1.13   \n",
       "200          (2010 AG79)  2010-01-13T00:00:00.000   19.9    0.244    1.22   \n",
       "201          (2010 AB78)  2010-01-12T00:00:00.000   18.3    0.206    1.02   \n",
       "\n",
       "     q_au_2  period_yr  i_deg  pha       orbit_class  \n",
       "0      4.26       4.06   9.65    Y            Apollo  \n",
       "1      1.08       1.00  14.52    Y            Apollo  \n",
       "2      2.00       1.31  23.11    N            Apollo  \n",
       "3      3.99       4.24  23.89    N              Amor  \n",
       "4      2.46       2.06   9.12    N            Apollo  \n",
       "..      ...        ...    ...  ...               ...  \n",
       "197    1.23       1.02  24.03    Y            Apollo  \n",
       "198    4.60       5.49   8.93  n/a  Encke-type Comet  \n",
       "199    2.12       2.06  43.73    N              Amor  \n",
       "200    4.59       4.95  32.96    N              Amor  \n",
       "201    3.49       3.38  33.26    N              Amor  \n",
       "\n",
       "[202 rows x 10 columns]"
      ],
      "text/html": "<div>\n<style scoped>\n    .dataframe tbody tr th:only-of-type {\n        vertical-align: middle;\n    }\n\n    .dataframe tbody tr th {\n        vertical-align: top;\n    }\n\n    .dataframe thead th {\n        text-align: right;\n    }\n</style>\n<table border=\"1\" class=\"dataframe\">\n  <thead>\n    <tr style=\"text-align: right;\">\n      <th></th>\n      <th>designation</th>\n      <th>discovery_date</th>\n      <th>h_mag</th>\n      <th>moid_au</th>\n      <th>q_au_1</th>\n      <th>q_au_2</th>\n      <th>period_yr</th>\n      <th>i_deg</th>\n      <th>pha</th>\n      <th>orbit_class</th>\n    </tr>\n  </thead>\n  <tbody>\n    <tr>\n      <th>0</th>\n      <td>419880 (2011 AH37)</td>\n      <td>2011-01-07T00:00:00.000</td>\n      <td>19.7</td>\n      <td>0.035</td>\n      <td>0.84</td>\n      <td>4.26</td>\n      <td>4.06</td>\n      <td>9.65</td>\n      <td>Y</td>\n      <td>Apollo</td>\n    </tr>\n    <tr>\n      <th>1</th>\n      <td>419624 (2010 SO16)</td>\n      <td>2010-09-17T00:00:00.000</td>\n      <td>20.5</td>\n      <td>0.028</td>\n      <td>0.93</td>\n      <td>1.08</td>\n      <td>1.00</td>\n      <td>14.52</td>\n      <td>Y</td>\n      <td>Apollo</td>\n    </tr>\n    <tr>\n      <th>2</th>\n      <td>414772 (2010 OC103)</td>\n      <td>2010-07-28T00:00:00.000</td>\n      <td>19.0</td>\n      <td>0.333</td>\n      <td>0.39</td>\n      <td>2.00</td>\n      <td>1.31</td>\n      <td>23.11</td>\n      <td>N</td>\n      <td>Apollo</td>\n    </tr>\n    <tr>\n      <th>3</th>\n      <td>414746 (2010 EH20)</td>\n      <td>2010-03-06T00:00:00.000</td>\n      <td>18.0</td>\n      <td>0.268</td>\n      <td>1.25</td>\n      <td>3.99</td>\n      <td>4.24</td>\n      <td>23.89</td>\n      <td>N</td>\n      <td>Amor</td>\n    </tr>\n    <tr>\n      <th>4</th>\n      <td>407324 (2010 OB101)</td>\n      <td>2010-07-18T00:00:00.000</td>\n      <td>20.7</td>\n      <td>0.111</td>\n      <td>0.77</td>\n      <td>2.46</td>\n      <td>2.06</td>\n      <td>9.12</td>\n      <td>N</td>\n      <td>Apollo</td>\n    </tr>\n    <tr>\n      <th>...</th>\n      <td>...</td>\n      <td>...</td>\n      <td>...</td>\n      <td>...</td>\n      <td>...</td>\n      <td>...</td>\n      <td>...</td>\n      <td>...</td>\n      <td>...</td>\n      <td>...</td>\n    </tr>\n    <tr>\n      <th>197</th>\n      <td>(2010 CO1)</td>\n      <td>2010-02-01T00:00:00.000</td>\n      <td>21.5</td>\n      <td>0.023</td>\n      <td>0.79</td>\n      <td>1.23</td>\n      <td>1.02</td>\n      <td>24.03</td>\n      <td>Y</td>\n      <td>Apollo</td>\n    </tr>\n    <tr>\n      <th>198</th>\n      <td>P/2010 B2 (WISE)</td>\n      <td>2010-01-22T00:00:00.000</td>\n      <td>NaN</td>\n      <td>0.630</td>\n      <td>1.62</td>\n      <td>4.60</td>\n      <td>5.49</td>\n      <td>8.93</td>\n      <td>n/a</td>\n      <td>Encke-type Comet</td>\n    </tr>\n    <tr>\n      <th>199</th>\n      <td>(2010 AU118)</td>\n      <td>2010-01-13T00:00:00.000</td>\n      <td>17.7</td>\n      <td>0.147</td>\n      <td>1.13</td>\n      <td>2.12</td>\n      <td>2.06</td>\n      <td>43.73</td>\n      <td>N</td>\n      <td>Amor</td>\n    </tr>\n    <tr>\n      <th>200</th>\n      <td>(2010 AG79)</td>\n      <td>2010-01-13T00:00:00.000</td>\n      <td>19.9</td>\n      <td>0.244</td>\n      <td>1.22</td>\n      <td>4.59</td>\n      <td>4.95</td>\n      <td>32.96</td>\n      <td>N</td>\n      <td>Amor</td>\n    </tr>\n    <tr>\n      <th>201</th>\n      <td>(2010 AB78)</td>\n      <td>2010-01-12T00:00:00.000</td>\n      <td>18.3</td>\n      <td>0.206</td>\n      <td>1.02</td>\n      <td>3.49</td>\n      <td>3.38</td>\n      <td>33.26</td>\n      <td>N</td>\n      <td>Amor</td>\n    </tr>\n  </tbody>\n</table>\n<p>202 rows × 10 columns</p>\n</div>"
     },
     "metadata": {},
     "execution_count": 21
    }
   ],
   "source": [
    "df2"
   ]
  }
 ]
}