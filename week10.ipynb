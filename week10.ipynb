{
 "metadata": {
  "language_info": {
   "codemirror_mode": {
    "name": "ipython",
    "version": 3
   },
   "file_extension": ".py",
   "mimetype": "text/x-python",
   "name": "python",
   "nbconvert_exporter": "python",
   "pygments_lexer": "ipython3",
   "version": "3.9.2"
  },
  "orig_nbformat": 2,
  "kernelspec": {
   "name": "python3",
   "display_name": "Python 3.9.2 64-bit",
   "metadata": {
    "interpreter": {
     "hash": "30b1f7c4f9949fbba7c7c572299ffa59f7d2d0feec8769e4e7f7c4ec5abf78fc"
    }
   }
  }
 },
 "nbformat": 4,
 "nbformat_minor": 2,
 "cells": [
  {
   "cell_type": "code",
   "execution_count": 29,
   "metadata": {},
   "outputs": [],
   "source": [
    "import matplotlib.pyplot as plt"
   ]
  },
  {
   "cell_type": "code",
   "execution_count": 30,
   "metadata": {},
   "outputs": [],
   "source": [
    "import numpy as np"
   ]
  },
  {
   "cell_type": "code",
   "execution_count": 31,
   "metadata": {},
   "outputs": [],
   "source": [
    "import matplotlib.style"
   ]
  },
  {
   "cell_type": "code",
   "execution_count": 64,
   "metadata": {},
   "outputs": [],
   "source": [
    "%matplotlib inline"
   ]
  },
  {
   "cell_type": "code",
   "execution_count": 33,
   "metadata": {},
   "outputs": [],
   "source": [
    "v1 = np.random.random((100,2))\n",
    "v2 = np.random.random((10,2))\n",
    "v3 = np.random.normal(0.5, 0.05, size=(25,3))"
   ]
  },
  {
   "cell_type": "code",
   "execution_count": 34,
   "metadata": {},
   "outputs": [
    {
     "output_type": "execute_result",
     "data": {
      "text/plain": [
       "((100, 2), (10, 2), (25, 3))"
      ]
     },
     "metadata": {},
     "execution_count": 34
    }
   ],
   "source": [
    "v1.shape, v2.shape, v3.shape"
   ]
  },
  {
   "cell_type": "code",
   "execution_count": 35,
   "metadata": {},
   "outputs": [
    {
     "output_type": "display_data",
     "data": {
      "text/plain": "Canvas(toolbar=Toolbar(toolitems=[('Home', 'Reset original view', 'home', 'home'), ('Back', 'Back to previous …",
      "application/vnd.jupyter.widget-view+json": {
       "version_major": 2,
       "version_minor": 0,
       "model_id": "f829217dc02145b6b488c03e5cfd6d45"
      }
     },
     "metadata": {}
    },
    {
     "output_type": "execute_result",
     "data": {
      "text/plain": [
       "<matplotlib.collections.PathCollection at 0x1bddba3f4c0>"
      ]
     },
     "metadata": {},
     "execution_count": 35
    }
   ],
   "source": [
    "plt.scatter(v1[:,0], v1[:,1])"
   ]
  },
  {
   "cell_type": "code",
   "execution_count": 40,
   "metadata": {},
   "outputs": [],
   "source": [
    "with matplotlib.style.context(\"fivethirtyeight\"):\n",
    "    plt.scatter(v1[:,0], v1[:,1])\n",
    "    plt.scatter(v2[:,0], v2[:,1])"
   ]
  },
  {
   "cell_type": "code",
   "execution_count": 41,
   "metadata": {},
   "outputs": [],
   "source": [
    "import matplotlib.font_manager"
   ]
  },
  {
   "cell_type": "code",
   "execution_count": 43,
   "metadata": {},
   "outputs": [
    {
     "output_type": "execute_result",
     "data": {
      "text/plain": [
       "indows\\\\Fonts\\\\bahnschrift.ttf',\n",
       " 'C:\\\\WINDOWS\\\\Fonts\\\\courbi.ttf',\n",
       " 'C:\\\\Windows\\\\Fonts\\\\GILBI___.TTF',\n",
       " 'C:\\\\Windows\\\\Fonts\\\\ntailub.ttf',\n",
       " 'C:\\\\Windows\\\\Fonts\\\\courbd.ttf',\n",
       " 'C:\\\\Windows\\\\Fonts\\\\DUBAI-LIGHT.TTF',\n",
       " 'C:\\\\Windows\\\\Fonts\\\\BRUSHSCI.TTF',\n",
       " 'C:\\\\Windows\\\\Fonts\\\\CHILLER.TTF',\n",
       " 'C:\\\\Windows\\\\Fonts\\\\CURLZ___.TTF',\n",
       " 'C:\\\\Program Files (x86)\\\\Adobe\\\\Acrobat DC\\\\Resource\\\\Font\\\\AdobeDevanagari-BoldItalic.otf',\n",
       " 'C:\\\\WINDOWS\\\\Fonts\\\\seguili.ttf',\n",
       " 'C:\\\\Windows\\\\Fonts\\\\symbol.ttf',\n",
       " 'C:\\\\WINDOWS\\\\Fonts\\\\BOD_CR.TTF',\n",
       " 'C:\\\\WINDOWS\\\\Fonts\\\\gadugib.ttf',\n",
       " 'C:\\\\Program Files (x86)\\\\Adobe\\\\Acrobat DC\\\\Resource\\\\Font\\\\AdobeDevanagari-Italic.otf',\n",
       " 'C:\\\\Windows\\\\Fonts\\\\timesi.ttf',\n",
       " 'C:\\\\WINDOWS\\\\Fonts\\\\segoeprb.ttf',\n",
       " 'C:\\\\WINDOWS\\\\Fonts\\\\calibrii.ttf',\n",
       " 'C:\\\\Windows\\\\Fonts\\\\MOD20.TTF',\n",
       " 'C:\\\\WINDOWS\\\\Fonts\\\\GOTHIC.TTF',\n",
       " 'C:\\\\WINDOWS\\\\Fonts\\\\LFAX.TTF',\n",
       " 'C:\\\\WINDOWS\\\\Fonts\\\\GOTHICBI.TTF',\n",
       " 'C:\\\\WINDOWS\\\\Fonts\\\\CASTELAR.TTF',\n",
       " 'C:\\\\Windows\\\\Fonts\\\\BRITANIC.TTF',\n",
       " 'C:\\\\Windows\\\\Fonts\\\\BAUHS93.TTF',\n",
       " 'C:\\\\Windows\\\\Fonts\\\\SitkaB.ttc',\n",
       " 'C:\\\\Windows\\\\Fonts\\\\ROCKEB.TTF',\n",
       " 'C:\\\\WINDOWS\\\\Fonts\\\\ariali.ttf',\n",
       " 'C:\\\\WINDOWS\\\\Fonts\\\\mingliub.ttc',\n",
       " 'C:\\\\WINDOWS\\\\Fonts\\\\BOD_BLAR.TTF',\n",
       " 'C:\\\\Windows\\\\Fonts\\\\tahomabd.ttf',\n",
       " 'C:\\\\WINDOWS\\\\Fonts\\\\COLONNA.TTF',\n",
       " 'C:\\\\Windows\\\\Fonts\\\\webdings.ttf',\n",
       " 'C:\\\\WINDOWS\\\\Fonts\\\\phagspab.ttf',\n",
       " 'C:\\\\Windows\\\\Fonts\\\\couri.ttf',\n",
       " 'C:\\\\WINDOWS\\\\Fonts\\\\BOOKOSBI.TTF',\n",
       " 'C:\\\\Windows\\\\Fonts\\\\SitkaZ.ttc',\n",
       " 'C:\\\\WINDOWS\\\\Fonts\\\\segoeuiz.ttf',\n",
       " 'C:\\\\WINDOWS\\\\Fonts\\\\VIVALDII.TTF',\n",
       " 'C:\\\\Windows\\\\Fonts\\\\msjhl.ttc',\n",
       " 'C:\\\\WINDOWS\\\\Fonts\\\\BELLI.TTF',\n",
       " 'C:\\\\Windows\\\\Fonts\\\\LTYPEO.TTF',\n",
       " 'C:\\\\Windows\\\\Fonts\\\\LeelawUI.ttf',\n",
       " 'C:\\\\WINDOWS\\\\Fonts\\\\SitkaB.ttc',\n",
       " 'C:\\\\WINDOWS\\\\Fonts\\\\GLSNECB.TTF',\n",
       " 'C:\\\\WINDOWS\\\\Fonts\\\\GILLUBCD.TTF',\n",
       " 'C:\\\\Windows\\\\Fonts\\\\simsunb.ttf',\n",
       " 'C:\\\\Windows\\\\Fonts\\\\seguibl.ttf',\n",
       " 'C:\\\\WINDOWS\\\\Fonts\\\\ENGR.TTF',\n",
       " 'C:\\\\WINDOWS\\\\Fonts\\\\HTOWERTI.TTF',\n",
       " 'C:\\\\WINDOWS\\\\Fonts\\\\l_10646.ttf',\n",
       " 'C:\\\\Windows\\\\Fonts\\\\LBRITED.TTF',\n",
       " 'C:\\\\WINDOWS\\\\Fonts\\\\corbelli.ttf',\n",
       " 'C:\\\\Windows\\\\Fonts\\\\FRADM.TTF',\n",
       " 'C:\\\\WINDOWS\\\\Fonts\\\\CALISTB.TTF',\n",
       " 'C:\\\\Windows\\\\Fonts\\\\SCHLBKBI.TTF',\n",
       " 'C:\\\\WINDOWS\\\\Fonts\\\\comici.ttf',\n",
       " 'C:\\\\WINDOWS\\\\Fonts\\\\marlett.ttf',\n",
       " 'C:\\\\WINDOWS\\\\Fonts\\\\ROCKB.TTF',\n",
       " 'C:\\\\WINDOWS\\\\Fonts\\\\CENTAUR.TTF',\n",
       " 'C:\\\\WINDOWS\\\\Fonts\\\\BOD_PSTC.TTF',\n",
       " 'C:\\\\Windows\\\\Fonts\\\\corbelli.ttf',\n",
       " 'C:\\\\Windows\\\\Fonts\\\\POORICH.TTF',\n",
       " 'C:\\\\Windows\\\\Fonts\\\\Candaraz.ttf',\n",
       " 'C:\\\\Windows\\\\Fonts\\\\LSANS.TTF',\n",
       " 'C:\\\\Windows\\\\Fonts\\\\GOUDYSTO.TTF',\n",
       " 'C:\\\\Windows\\\\Fonts\\\\GOUDOSI.TTF',\n",
       " 'C:\\\\WINDOWS\\\\Fonts\\\\ERASDEMI.TTF',\n",
       " 'C:\\\\Windows\\\\Fonts\\\\YuGothB.ttc',\n",
       " 'C:\\\\WINDOWS\\\\Fonts\\\\OUTLOOK.TTF',\n",
       " 'C:\\\\WINDOWS\\\\Fonts\\\\BRADHITC.TTF',\n",
       " 'C:\\\\Windows\\\\Fonts\\\\lucon.ttf',\n",
       " 'C:\\\\Windows\\\\Fonts\\\\BOOKOSBI.TTF',\n",
       " 'C:\\\\WINDOWS\\\\Fonts\\\\segoeuii.ttf',\n",
       " 'C:\\\\WINDOWS\\\\Fonts\\\\constanz.ttf',\n",
       " 'C:\\\\Windows\\\\Fonts\\\\VLADIMIR.TTF',\n",
       " 'C:\\\\Windows\\\\Fonts\\\\SCHLBKB.TTF',\n",
       " 'C:\\\\WINDOWS\\\\Fonts\\\\FRAHV.TTF',\n",
       " 'C:\\\\Windows\\\\Fonts\\\\TCB_____.TTF',\n",
       " 'C:\\\\Windows\\\\Fonts\\\\seguisli.ttf',\n",
       " 'C:\\\\WINDOWS\\\\Fonts\\\\framd.ttf',\n",
       " 'C:\\\\Windows\\\\Fonts\\\\MTCORSVA.TTF',\n",
       " 'C:\\\\Windows\\\\Fonts\\\\GARA.TTF',\n",
       " 'C:\\\\WINDOWS\\\\Fonts\\\\constan.ttf',\n",
       " 'C:\\\\Windows\\\\Fonts\\\\COPRGTL.TTF',\n",
       " 'C:\\\\Windows\\\\Fonts\\\\Candaral.ttf',\n",
       " 'C:\\\\Windows\\\\Fonts\\\\HATTEN.TTF',\n",
       " 'C:\\\\WINDOWS\\\\Fonts\\\\framdit.ttf',\n",
       " 'C:\\\\Windows\\\\Fonts\\\\consolaz.ttf',\n",
       " 'C:\\\\WINDOWS\\\\Fonts\\\\BELLB.TTF',\n",
       " 'C:\\\\Windows\\\\Fonts\\\\trebucbd.ttf',\n",
       " 'C:\\\\Windows\\\\Fonts\\\\Candarab.ttf',\n",
       " 'C:\\\\Windows\\\\Fonts\\\\calibri.ttf',\n",
       " 'C:\\\\Windows\\\\Fonts\\\\BOD_CB.TTF',\n",
       " 'C:\\\\Windows\\\\Fonts\\\\FRSCRIPT.TTF',\n",
       " 'C:\\\\WINDOWS\\\\Fonts\\\\BROADW.TTF',\n",
       " 'C:\\\\WINDOWS\\\\Fonts\\\\HARNGTON.TTF',\n",
       " 'C:\\\\WINDOWS\\\\Fonts\\\\trebuc.ttf',\n",
       " 'C:\\\\WINDOWS\\\\Fonts\\\\seguisli.ttf',\n",
       " 'C:\\\\WINDOWS\\\\Fonts\\\\consolai.ttf',\n",
       " 'C:\\\\WINDOWS\\\\Fonts\\\\PAPYRUS.TTF',\n",
       " 'C:\\\\Windows\\\\Fonts\\\\MISTRAL.TTF',\n",
       " 'C:\\\\WINDOWS\\\\Fonts\\\\PERTILI.TTF',\n",
       " 'C:\\\\Windows\\\\Fonts\\\\phagspab.ttf',\n",
       " 'C:\\\\WINDOWS\\\\Fonts\\\\timesbd.ttf',\n",
       " 'C:\\\\WINDOWS\\\\Fonts\\\\LTYPE.TTF',\n",
       " 'C:\\\\WINDOWS\\\\Fonts\\\\FRADMCN.TTF',\n",
       " 'C:\\\\WINDOWS\\\\Fonts\\\\ZWAdobeF.TTF',\n",
       " 'C:\\\\WINDOWS\\\\Fonts\\\\calibril.ttf',\n",
       " 'C:\\\\Windows\\\\Fonts\\\\BRLNSB.TTF',\n",
       " 'C:\\\\Windows\\\\Fonts\\\\MAGNETOB.TTF',\n",
       " 'C:\\\\WINDOWS\\\\Fonts\\\\BERNHC.TTF',\n",
       " 'C:\\\\Windows\\\\Fonts\\\\segoeuil.ttf',\n",
       " 'C:\\\\WINDOWS\\\\Fonts\\\\timesi.ttf',\n",
       " 'C:\\\\WINDOWS\\\\Fonts\\\\seguibl.ttf',\n",
       " 'C:\\\\Windows\\\\Fonts\\\\WINGDNG2.TTF',\n",
       " 'C:\\\\WINDOWS\\\\Fonts\\\\Candarab.ttf',\n",
       " 'C:\\\\Windows\\\\Fonts\\\\segoeuiz.ttf',\n",
       " 'C:\\\\WINDOWS\\\\Fonts\\\\PERBI___.TTF',\n",
       " 'C:\\\\WINDOWS\\\\Fonts\\\\seguibli.ttf',\n",
       " 'C:\\\\WINDOWS\\\\Fonts\\\\CALIFR.TTF',\n",
       " 'C:\\\\WINDOWS\\\\Fonts\\\\msyhl.ttc',\n",
       " 'C:\\\\WINDOWS\\\\Fonts\\\\INFROMAN.TTF',\n",
       " 'C:\\\\Windows\\\\Fonts\\\\MATURASC.TTF',\n",
       " 'C:\\\\Windows\\\\Fonts\\\\BOOKOSI.TTF',\n",
       " 'C:\\\\WINDOWS\\\\Fonts\\\\CENTURY.TTF',\n",
       " 'C:\\\\Windows\\\\Fonts\\\\simsun.ttc',\n",
       " 'C:\\\\WINDOWS\\\\Fonts\\\\LFAXI.TTF',\n",
       " 'C:\\\\WINDOWS\\\\Fonts\\\\himalaya.ttf',\n",
       " 'C:\\\\WINDOWS\\\\Fonts\\\\simsun.ttc',\n",
       " 'C:\\\\Windows\\\\Fonts\\\\ZWAdobeF.TTF',\n",
       " 'C:\\\\WINDOWS\\\\Fonts\\\\BSSYM7.TTF',\n",
       " 'C:\\\\WINDOWS\\\\Fonts\\\\ARIALN.TTF',\n",
       " 'C:\\\\Windows\\\\Fonts\\\\georgiaz.ttf',\n",
       " 'C:\\\\WINDOWS\\\\Fonts\\\\BKANT.TTF',\n",
       " 'C:\\\\Windows\\\\Fonts\\\\BOD_R.TTF',\n",
       " 'C:\\\\WINDOWS\\\\Fonts\\\\MOD20.TTF',\n",
       " 'C:\\\\Windows\\\\Fonts\\\\Candarali.ttf',\n",
       " 'C:\\\\Windows\\\\Fonts\\\\ariblk.ttf',\n",
       " 'C:\\\\Windows\\\\Fonts\\\\LFAXI.TTF',\n",
       " 'C:\\\\WINDOWS\\\\Fonts\\\\ARIALNB.TTF',\n",
       " 'C:\\\\WINDOWS\\\\Fonts\\\\taileb.ttf',\n",
       " 'C:\\\\Windows\\\\Fonts\\\\LATINWD.TTF',\n",
       " 'C:\\\\Windows\\\\Fonts\\\\ROCKBI.TTF',\n",
       " 'C:\\\\WINDOWS\\\\Fonts\\\\comicbd.ttf',\n",
       " 'C:\\\\WINDOWS\\\\Fonts\\\\FRAMDCN.TTF',\n",
       " 'C:\\\\WINDOWS\\\\Fonts\\\\LSANSD.TTF',\n",
       " 'C:\\\\WINDOWS\\\\Fonts\\\\REFSAN.TTF',\n",
       " 'C:\\\\WINDOWS\\\\Fonts\\\\consolaz.ttf',\n",
       " 'C:\\\\Windows\\\\Fonts\\\\TCCM____.TTF',\n",
       " 'C:\\\\Windows\\\\Fonts\\\\palab.ttf',\n",
       " 'C:\\\\Windows\\\\Fonts\\\\constanb.ttf',\n",
       " 'C:\\\\WINDOWS\\\\Fonts\\\\BOD_I.TTF',\n",
       " 'C:\\\\WINDOWS\\\\Fonts\\\\courbd.ttf',\n",
       " 'C:\\\\WINDOWS\\\\Fonts\\\\georgia.ttf',\n",
       " 'C:\\\\Windows\\\\Fonts\\\\MTEXTRA.TTF',\n",
       " 'C:\\\\Windows\\\\Fonts\\\\YuGothR.ttc',\n",
       " 'C:\\\\Windows\\\\Fonts\\\\constan.ttf',\n",
       " 'C:\\\\WINDOWS\\\\Fonts\\\\PARCHM.TTF',\n",
       " 'C:\\\\WINDOWS\\\\Fonts\\\\SCHLBKB.TTF',\n",
       " 'C:\\\\Windows\\\\Fonts\\\\cambriaz.ttf',\n",
       " 'C:\\\\Windows\\\\Fonts\\\\AGENCYR.TTF',\n",
       " 'C:\\\\WINDOWS\\\\Fonts\\\\ebrima.ttf',\n",
       " 'C:\\\\Windows\\\\Fonts\\\\OCRAEXT.TTF',\n",
       " 'C:\\\\WINDOWS\\\\Fonts\\\\WINGDNG2.TTF',\n",
       " 'C:\\\\Windows\\\\Fonts\\\\msgothic.ttc',\n",
       " 'C:\\\\WINDOWS\\\\Fonts\\\\TCCB____.TTF',\n",
       " 'C:\\\\WINDOWS\\\\Fonts\\\\seguisym.ttf',\n",
       " 'C:\\\\Windows\\\\Fonts\\\\calibrii.ttf',\n",
       " 'C:\\\\WINDOWS\\\\Fonts\\\\msyh.ttc',\n",
       " 'C:\\\\Windows\\\\Fonts\\\\BELLI.TTF',\n",
       " 'C:\\\\Windows\\\\Fonts\\\\verdanai.ttf',\n",
       " 'C:\\\\Windows\\\\Fonts\\\\GOTHIC.TTF',\n",
       " 'C:\\\\Windows\\\\Fonts\\\\TCCB____.TTF',\n",
       " 'C:\\\\Windows\\\\Fonts\\\\BROADW.TTF',\n",
       " 'C:\\\\WINDOWS\\\\Fonts\\\\BOOKOS.TTF',\n",
       " 'C:\\\\WINDOWS\\\\Fonts\\\\ERASBD.TTF',\n",
       " 'C:\\\\WINDOWS\\\\Fonts\\\\TCBI____.TTF',\n",
       " 'C:\\\\WINDOWS\\\\Fonts\\\\times.ttf',\n",
       " 'C:\\\\Windows\\\\Fonts\\\\seguisym.ttf',\n",
       " 'C:\\\\Windows\\\\Fonts\\\\FRABKIT.TTF',\n",
       " 'C:\\\\Windows\\\\Fonts\\\\arialbi.ttf',\n",
       " 'C:\\\\Windows\\\\Fonts\\\\SCRIPTBL.TTF',\n",
       " 'C:\\\\Windows\\\\Fonts\\\\BOD_BLAI.TTF',\n",
       " 'C:\\\\WINDOWS\\\\Fonts\\\\timesbi.ttf',\n",
       " 'C:\\\\WINDOWS\\\\Fonts\\\\POORICH.TTF',\n",
       " 'C:\\\\WINDOWS\\\\Fonts\\\\GILBI___.TTF',\n",
       " 'C:\\\\Windows\\\\Fonts\\\\mingliub.ttc',\n",
       " 'C:\\\\WINDOWS\\\\Fonts\\\\tahomabd.ttf',\n",
       " 'C:\\\\WINDOWS\\\\Fonts\\\\BOOKOSI.TTF',\n",
       " 'C:\\\\Windows\\\\Fonts\\\\FRAMDCN.TTF',\n",
       " 'C:\\\\WINDOWS\\\\Fonts\\\\BOOKOSB.TTF',\n",
       " 'C:\\\\WINDOWS\\\\Fonts\\\\BRLNSDB.TTF',\n",
       " 'C:\\\\WINDOWS\\\\Fonts\\\\FELIXTI.TTF',\n",
       " 'C:\\\\WINDOWS\\\\Fonts\\\\ALGER.TTF',\n",
       " 'C:\\\\Windows\\\\Fonts\\\\GARABD.TTF',\n",
       " 'C:\\\\WINDOWS\\\\Fonts\\\\COOPBL.TTF',\n",
       " 'C:\\\\WINDOWS\\\\Fonts\\\\JOKERMAN.TTF',\n",
       " 'C:\\\\Windows\\\\Fonts\\\\himalaya.ttf',\n",
       " 'C:\\\\WINDOWS\\\\Fonts\\\\constani.ttf',\n",
       " 'C:\\\\WINDOWS\\\\Fonts\\\\GOUDOS.TTF',\n",
       " 'C:\\\\Windows\\\\Fonts\\\\GILB____.TTF',\n",
       " 'C:\\\\WINDOWS\\\\Fonts\\\\ROCKI.TTF',\n",
       " 'C:\\\\WINDOWS\\\\Fonts\\\\NirmalaB.ttf',\n",
       " 'C:\\\\WINDOWS\\\\Fonts\\\\trebucbi.ttf',\n",
       " 'C:\\\\Windows\\\\Fonts\\\\ROCC____.TTF',\n",
       " 'C:\\\\Windows\\\\Fonts\\\\BOD_PSTC.TTF',\n",
       " 'C:\\\\Windows\\\\Fonts\\\\msyi.ttf',\n",
       " 'C:\\\\Windows\\\\Fonts\\\\FELIXTI.TTF',\n",
       " 'C:\\\\Windows\\\\Fonts\\\\AGENCYB.TTF',\n",
       " 'C:\\\\Windows\\\\Fonts\\\\BOD_CR.TTF',\n",
       " 'C:\\\\WINDOWS\\\\Fonts\\\\HTOWERT.TTF',\n",
       " 'C:\\\\WINDOWS\\\\Fonts\\\\CHILLER.TTF',\n",
       " 'C:\\\\Windows\\\\Fonts\\\\timesbi.ttf',\n",
       " 'C:\\\\Windows\\\\Fonts\\\\malgun.ttf',\n",
       " 'C:\\\\WINDOWS\\\\Fonts\\\\BOD_BI.TTF',\n",
       " 'C:\\\\Windows\\\\Fonts\\\\DUBAI-MEDIUM.TTF',\n",
       " 'C:\\\\Windows\\\\Fonts\\\\FRAHV.TTF',\n",
       " 'C:\\\\WINDOWS\\\\Fonts\\\\LTYPEO.TTF',\n",
       " 'C:\\\\Windows\\\\Fonts\\\\framd.ttf',\n",
       " 'C:\\\\WINDOWS\\\\Fonts\\\\YuGothM.ttc',\n",
       " 'C:\\\\WINDOWS\\\\Fonts\\\\cour.ttf',\n",
       " 'C:\\\\WINDOWS\\\\Fonts\\\\verdanab.ttf',\n",
       " 'C:\\\\WINDOWS\\\\Fonts\\\\wingding.ttf',\n",
       " 'C:\\\\WINDOWS\\\\Fonts\\\\LTYPEB.TTF',\n",
       " 'C:\\\\Windows\\\\Fonts\\\\FRADMCN.TTF',\n",
       " 'C:\\\\Windows\\\\Fonts\\\\framdit.ttf',\n",
       " 'C:\\\\WINDOWS\\\\Fonts\\\\GILSANUB.TTF',\n",
       " 'C:\\\\Windows\\\\Fonts\\\\LHANDW.TTF',\n",
       " 'C:\\\\Windows\\\\Fonts\\\\cour.ttf',\n",
       " 'C:\\\\Windows\\\\Fonts\\\\georgiai.ttf',\n",
       " 'C:\\\\Windows\\\\Fonts\\\\BELLB.TTF',\n",
       " 'C:\\\\Windows\\\\Fonts\\\\ANTQUAB.TTF',\n",
       " 'C:\\\\Windows\\\\Fonts\\\\comicz.ttf',\n",
       " 'C:\\\\Windows\\\\Fonts\\\\Gabriola.ttf',\n",
       " 'C:\\\\WINDOWS\\\\Fonts\\\\ARLRDBD.TTF',\n",
       " 'C:\\\\Windows\\\\Fonts\\\\cambriai.ttf',\n",
       " 'C:\\\\Windows\\\\Fonts\\\\OLDENGL.TTF',\n",
       " 'C:\\\\WINDOWS\\\\Fonts\\\\BRUSHSCI.TTF',\n",
       " 'C:\\\\Windows\\\\Fonts\\\\consolab.ttf',\n",
       " 'C:\\\\Windows\\\\Fonts\\\\FRABK.TTF',\n",
       " 'C:\\\\Windows\\\\Fonts\\\\corbell.ttf',\n",
       " 'C:\\\\WINDOWS\\\\Fonts\\\\micross.ttf',\n",
       " 'C:\\\\WINDOWS\\\\Fonts\\\\TCM_____.TTF',\n",
       " 'C:\\\\Windows\\\\Fonts\\\\ELEPHNT.TTF',\n",
       " 'C:\\\\Windows\\\\Fonts\\\\calibril.ttf',\n",
       " 'C:\\\\WINDOWS\\\\Fonts\\\\GOUDOSI.TTF',\n",
       " 'C:\\\\Windows\\\\Fonts\\\\BOD_I.TTF',\n",
       " 'C:\\\\Windows\\\\Fonts\\\\comicbd.ttf',\n",
       " 'C:\\\\WINDOWS\\\\Fonts\\\\GIGI.TTF',\n",
       " 'C:\\\\Windows\\\\Fonts\\\\ANTQUABI.TTF',\n",
       " 'C:\\\\Windows\\\\Fonts\\\\LSANSDI.TTF',\n",
       " 'C:\\\\WINDOWS\\\\Fonts\\\\Candarai.ttf',\n",
       " 'C:\\\\Windows\\\\Fonts\\\\TCCEB.TTF',\n",
       " 'C:\\\\Windows\\\\Fonts\\\\seguiemj.ttf',\n",
       " 'C:\\\\WINDOWS\\\\Fonts\\\\ARIALNBI.TTF',\n",
       " 'C:\\\\WINDOWS\\\\Fonts\\\\ARIALNI.TTF',\n",
       " 'C:\\\\WINDOWS\\\\Fonts\\\\LBRITE.TTF',\n",
       " 'C:\\\\Windows\\\\Fonts\\\\BOD_CBI.TTF',\n",
       " 'C:\\\\Windows\\\\Fonts\\\\CASTELAR.TTF',\n",
       " 'C:\\\\Windows\\\\Fonts\\\\TCBI____.TTF',\n",
       " 'C:\\\\Windows\\\\Fonts\\\\ALGER.TTF',\n",
       " 'C:\\\\WINDOWS\\\\Fonts\\\\seguisbi.ttf',\n",
       " 'C:\\\\Windows\\\\Fonts\\\\verdanab.ttf',\n",
       " 'C:\\\\WINDOWS\\\\Fonts\\\\bahnschrift.ttf',\n",
       " 'C:\\\\WINDOWS\\\\Fonts\\\\msjh.ttc',\n",
       " 'C:\\\\Windows\\\\Fonts\\\\comici.ttf',\n",
       " 'C:\\\\Windows\\\\Fonts\\\\LTYPEBO.TTF',\n",
       " 'C:\\\\WINDOWS\\\\Fonts\\\\segoeuisl.ttf',\n",
       " 'C:\\\\Windows\\\\Fonts\\\\BKANT.TTF',\n",
       " 'C:\\\\WINDOWS\\\\Fonts\\\\SCHLBKI.TTF',\n",
       " 'C:\\\\WINDOWS\\\\Fonts\\\\Sitka.ttc',\n",
       " 'C:\\\\WINDOWS\\\\Fonts\\\\DUBAI-LIGHT.TTF',\n",
       " 'C:\\\\WINDOWS\\\\Fonts\\\\DUBAI-BOLD.TTF',\n",
       " 'C:\\\\Windows\\\\Fonts\\\\segoeprb.ttf',\n",
       " 'C:\\\\Windows\\\\Fonts\\\\ariali.ttf',\n",
       " 'C:\\\\Windows\\\\Fonts\\\\GILLUBCD.TTF',\n",
       " 'C:\\\\Windows\\\\Fonts\\\\malgunsl.ttf',\n",
       " 'C:\\\\WINDOWS\\\\Fonts\\\\CALISTI.TTF',\n",
       " 'C:\\\\WINDOWS\\\\Fonts\\\\lucon.ttf',\n",
       " 'C:\\\\WINDOWS\\\\Fonts\\\\GOUDOSB.TTF',\n",
       " 'C:\\\\WINDOWS\\\\Fonts\\\\KUNSTLER.TTF',\n",
       " 'C:\\\\WINDOWS\\\\Fonts\\\\FRAHVIT.TTF',\n",
       " 'C:\\\\Windows\\\\Fonts\\\\cambriab.ttf',\n",
       " 'C:\\\\Windows\\\\Fonts\\\\FRAHVIT.TTF',\n",
       " 'C:\\\\WINDOWS\\\\Fonts\\\\IMPRISHA.TTF',\n",
       " 'C:\\\\Windows\\\\Fonts\\\\CALIFR.TTF',\n",
       " 'C:\\\\WINDOWS\\\\Fonts\\\\ERASMD.TTF',\n",
       " 'C:\\\\WINDOWS\\\\Fonts\\\\ITCBLKAD.TTF',\n",
       " 'C:\\\\WINDOWS\\\\Fonts\\\\FRABKIT.TTF',\n",
       " 'C:\\\\WINDOWS\\\\Fonts\\\\REFSPCL.TTF',\n",
       " 'C:\\\\WINDOWS\\\\Fonts\\\\GARABD.TTF',\n",
       " 'C:\\\\Windows\\\\Fonts\\\\georgiab.ttf',\n",
       " 'C:\\\\WINDOWS\\\\Fonts\\\\georgiaz.ttf',\n",
       " 'C:\\\\Windows\\\\Fonts\\\\MAIAN.TTF',\n",
       " 'C:\\\\Windows\\\\Fonts\\\\cambria.ttc',\n",
       " 'C:\\\\Windows\\\\Fonts\\\\BASKVILL.TTF',\n",
       " 'C:\\\\WINDOWS\\\\Fonts\\\\cambria.ttc',\n",
       " 'C:\\\\WINDOWS\\\\Fonts\\\\LBRITEI.TTF',\n",
       " 'C:\\\\WINDOWS\\\\Fonts\\\\Candarali.ttf',\n",
       " 'C:\\\\Windows\\\\Fonts\\\\RAGE.TTF',\n",
       " 'C:\\\\WINDOWS\\\\Fonts\\\\BASKVILL.TTF',\n",
       " 'C:\\\\WINDOWS\\\\Fonts\\\\MAIAN.TTF',\n",
       " 'C:\\\\WINDOWS\\\\Fonts\\\\msyhbd.ttc',\n",
       " 'C:\\\\Windows\\\\Fonts\\\\BOD_B.TTF',\n",
       " 'C:\\\\Windows\\\\Fonts\\\\msyh.ttc',\n",
       " 'C:\\\\Windows\\\\Fonts\\\\OUTLOOK.TTF',\n",
       " 'C:\\\\Windows\\\\Fonts\\\\LBRITEDI.TTF',\n",
       " 'C:\\\\WINDOWS\\\\Fonts\\\\LTYPEBO.TTF',\n",
       " 'C:\\\\Windows\\\\Fonts\\\\consola.ttf',\n",
       " 'C:\\\\WINDOWS\\\\Fonts\\\\SNAP____.TTF',\n",
       " 'C:\\\\WINDOWS\\\\Fonts\\\\PERI____.TTF',\n",
       " 'C:\\\\WINDOWS\\\\Fonts\\\\BRLNSB.TTF',\n",
       " 'C:\\\\WINDOWS\\\\Fonts\\\\BRITANIC.TTF',\n",
       " 'C:\\\\WINDOWS\\\\Fonts\\\\ONYX.TTF',\n",
       " 'C:\\\\Windows\\\\Fonts\\\\segmdl2.ttf',\n",
       " 'C:\\\\WINDOWS\\\\Fonts\\\\HARLOWSI.TTF',\n",
       " 'C:\\\\WINDOWS\\\\Fonts\\\\mvboli.ttf',\n",
       " 'C:\\\\Windows\\\\Fonts\\\\segoescb.ttf',\n",
       " 'C:\\\\WINDOWS\\\\Fonts\\\\LeelawUI.ttf',\n",
       " 'C:\\\\Windows\\\\Fonts\\\\JUICE___.TTF',\n",
       " 'C:\\\\Windows\\\\Fonts\\\\NirmalaB.ttf',\n",
       " 'C:\\\\WINDOWS\\\\Fonts\\\\BOD_BLAI.TTF',\n",
       " 'C:\\\\WINDOWS\\\\Fonts\\\\NirmalaS.ttf',\n",
       " 'C:\\\\WINDOWS\\\\Fonts\\\\CALIST.TTF',\n",
       " 'C:\\\\WINDOWS\\\\Fonts\\\\FORTE.TTF',\n",
       " 'C:\\\\Windows\\\\Fonts\\\\msjhbd.ttc',\n",
       " 'C:\\\\WINDOWS\\\\Fonts\\\\couri.ttf',\n",
       " 'C:\\\\Windows\\\\Fonts\\\\CALIFB.TTF',\n",
       " 'C:\\\\Windows\\\\Fonts\\\\LTYPEB.TTF',\n",
       " 'C:\\\\Windows\\\\Fonts\\\\BRADHITC.TTF',\n",
       " 'C:\\\\Windows\\\\Fonts\\\\PALSCRI.TTF',\n",
       " 'C:\\\\Windows\\\\Fonts\\\\ITCKRIST.TTF',\n",
       " 'C:\\\\Windows\\\\Fonts\\\\LFAXDI.TTF',\n",
       " 'C:\\\\Windows\\\\Fonts\\\\corbeli.ttf',\n",
       " 'C:\\\\WINDOWS\\\\Fonts\\\\ntailub.ttf',\n",
       " 'C:\\\\WINDOWS\\\\Fonts\\\\PRISTINA.TTF',\n",
       " 'C:\\\\WINDOWS\\\\Fonts\\\\CURLZ___.TTF',\n",
       " 'C:\\\\Windows\\\\Fonts\\\\CALISTB.TTF',\n",
       " 'C:\\\\Windows\\\\Fonts\\\\segoesc.ttf',\n",
       " 'C:\\\\WINDOWS\\\\Fonts\\\\impact.ttf',\n",
       " 'C:\\\\Windows\\\\Fonts\\\\ERASBD.TTF',\n",
       " 'C:\\\\WINDOWS\\\\Fonts\\\\FTLTLT.TTF',\n",
       " 'C:\\\\Windows\\\\Fonts\\\\PERTILI.TTF',\n",
       " 'C:\\\\Windows\\\\Fonts\\\\PERI____.TTF',\n",
       " 'C:\\\\WINDOWS\\\\Fonts\\\\MTEXTRA.TTF',\n",
       " 'C:\\\\Windows\\\\Fonts\\\\CALISTI.TTF',\n",
       " 'C:\\\\WINDOWS\\\\Fonts\\\\LFAXD.TTF',\n",
       " 'C:\\\\WINDOWS\\\\Fonts\\\\ROCC____.TTF',\n",
       " 'C:\\\\WINDOWS\\\\Fonts\\\\cambriai.ttf',\n",
       " 'C:\\\\WINDOWS\\\\Fonts\\\\segoescb.ttf',\n",
       " 'C:\\\\WINDOWS\\\\Fonts\\\\verdanai.ttf',\n",
       " 'C:\\\\WINDOWS\\\\Fonts\\\\consolab.ttf',\n",
       " 'C:\\\\Windows\\\\Fonts\\\\ROCCB___.TTF',\n",
       " 'C:\\\\Windows\\\\Fonts\\\\SNAP____.TTF',\n",
       " 'C:\\\\Windows\\\\Fonts\\\\Candara.ttf',\n",
       " 'C:\\\\Windows\\\\Fonts\\\\COLONNA.TTF',\n",
       " 'C:\\\\Windows\\\\Fonts\\\\GLSNECB.TTF',\n",
       " 'C:\\\\Windows\\\\Fonts\\\\ELEPHNTI.TTF',\n",
       " 'C:\\\\Windows\\\\Fonts\\\\LCALLIG.TTF',\n",
       " 'C:\\\\Windows\\\\Fonts\\\\FRADMIT.TTF',\n",
       " 'C:\\\\WINDOWS\\\\Fonts\\\\arialbi.ttf',\n",
       " 'C:\\\\WINDOWS\\\\Fonts\\\\STENCIL.TTF',\n",
       " 'C:\\\\WINDOWS\\\\Fonts\\\\FRADMIT.TTF',\n",
       " 'C:\\\\WINDOWS\\\\Fonts\\\\holomdl2.ttf',\n",
       " 'C:\\\\WINDOWS\\\\Fonts\\\\LBRITEDI.TTF',\n",
       " 'C:\\\\Windows\\\\Fonts\\\\mvboli.ttf',\n",
       " 'C:\\\\Windows\\\\Fonts\\\\segoepr.ttf',\n",
       " 'C:\\\\Windows\\\\Fonts\\\\constani.ttf',\n",
       " 'C:\\\\WINDOWS\\\\Fonts\\\\Nirmala.ttf',\n",
       " 'C:\\\\Windows\\\\Fonts\\\\ebrimabd.ttf',\n",
       " 'C:\\\\WINDOWS\\\\Fonts\\\\MTCORSVA.TTF',\n",
       " 'C:\\\\Windows\\\\Fonts\\\\LSANSD.TTF',\n",
       " 'C:\\\\WINDOWS\\\\Fonts\\\\calibrili.ttf',\n",
       " 'C:\\\\WINDOWS\\\\Fonts\\\\taile.ttf',\n",
       " 'C:\\\\Windows\\\\Fonts\\\\CENTURY.TTF',\n",
       " 'C:\\\\WINDOWS\\\\Fonts\\\\COPRGTB.TTF',\n",
       " 'C:\\\\Windows\\\\Fonts\\\\GOTHICBI.TTF',\n",
       " 'C:\\\\WINDOWS\\\\Fonts\\\\ariblk.ttf',\n",
       " 'C:\\\\WINDOWS\\\\Fonts\\\\verdanaz.ttf',\n",
       " 'C:\\\\WINDOWS\\\\Fonts\\\\ROCKEB.TTF',\n",
       " 'C:\\\\Windows\\\\Fonts\\\\ERASMD.TTF',\n",
       " 'C:\\\\Windows\\\\Fonts\\\\GOUDOS.TTF',\n",
       " 'C:\\\\WINDOWS\\\\Fonts\\\\GIL_____.TTF',\n",
       " 'C:\\\\Windows\\\\Fonts\\\\tahoma.ttf',\n",
       " 'C:\\\\Windows\\\\Fonts\\\\ROCKB.TTF',\n",
       " 'C:\\\\Windows\\\\Fonts\\\\VINERITC.TTF',\n",
       " 'C:\\\\WINDOWS\\\\Fonts\\\\calibrib.ttf',\n",
       " 'C:\\\\Windows\\\\Fonts\\\\NIAGSOL.TTF',\n",
       " 'C:\\\\Windows\\\\Fonts\\\\PERBI___.TTF',\n",
       " 'C:\\\\WINDOWS\\\\Fonts\\\\VLADIMIR.TTF',\n",
       " 'C:\\\\WINDOWS\\\\Fonts\\\\malgun.ttf',\n",
       " 'C:\\\\Windows\\\\Fonts\\\\GIL_____.TTF',\n",
       " 'C:\\\\Windows\\\\Fonts\\\\WINGDNG3.TTF',\n",
       " 'C:\\\\WINDOWS\\\\Fonts\\\\PER_____.TTF',\n",
       " 'C:\\\\WINDOWS\\\\Fonts\\\\ROCKBI.TTF',\n",
       " 'C:\\\\Windows\\\\Fonts\\\\verdana.ttf',\n",
       " 'C:\\\\WINDOWS\\\\Fonts\\\\BOD_CB.TTF',\n",
       " 'C:\\\\WINDOWS\\\\Fonts\\\\OLDENGL.TTF',\n",
       " 'C:\\\\Windows\\\\Fonts\\\\GOUDOSB.TTF',\n",
       " 'C:\\\\WINDOWS\\\\Fonts\\\\palab.ttf',\n",
       " 'C:\\\\WINDOWS\\\\Fonts\\\\segmdl2.ttf',\n",
       " 'C:\\\\Windows\\\\Fonts\\\\DUBAI-BOLD.TTF',\n",
       " 'C:\\\\WINDOWS\\\\Fonts\\\\GLECB.TTF',\n",
       " 'C:\\\\WINDOWS\\\\Fonts\\\\corbeli.ttf',\n",
       " 'C:\\\\Windows\\\\Fonts\\\\ONYX.TTF',\n",
       " 'C:\\\\Windows\\\\Fonts\\\\FORTE.TTF',\n",
       " 'C:\\\\Windows\\\\Fonts\\\\JOKERMAN.TTF',\n",
       " 'C:\\\\WINDOWS\\\\Fonts\\\\corbelz.ttf',\n",
       " 'C:\\\\WINDOWS\\\\Fonts\\\\ELEPHNTI.TTF',\n",
       " 'C:\\\\Windows\\\\Fonts\\\\BRLNSR.TTF',\n",
       " 'C:\\\\Windows\\\\Fonts\\\\Nirmala.ttf',\n",
       " 'C:\\\\Windows\\\\Fonts\\\\consolai.ttf',\n",
       " 'C:\\\\Windows\\\\Fonts\\\\SCHLBKI.TTF',\n",
       " 'C:\\\\WINDOWS\\\\Fonts\\\\YuGothL.ttc',\n",
       " 'C:\\\\Windows\\\\Fonts\\\\DUBAI-REGULAR.TTF',\n",
       " 'C:\\\\WINDOWS\\\\Fonts\\\\AGENCYR.TTF',\n",
       " 'C:\\\\WINDOWS\\\\Fonts\\\\GOTHICI.TTF',\n",
       " 'C:\\\\Windows\\\\Fonts\\\\palabi.ttf',\n",
       " 'C:\\\\Windows\\\\Fonts\\\\BOD_BI.TTF',\n",
       " 'C:\\\\Windows\\\\Fonts\\\\segoeuisl.ttf',\n",
       " 'C:\\\\WINDOWS\\\\Fonts\\\\TEMPSITC.TTF',\n",
       " 'C:\\\\Windows\\\\Fonts\\\\NirmalaS.ttf',\n",
       " 'C:\\\\WINDOWS\\\\Fonts\\\\BOD_CI.TTF',\n",
       " 'C:\\\\Windows\\\\Fonts\\\\calibriz.ttf',\n",
       " 'C:\\\\WINDOWS\\\\Fonts\\\\FRABK.TTF',\n",
       " 'C:\\\\Windows\\\\Fonts\\\\ARIALNB.TTF',\n",
       " 'C:\\\\Windows\\\\Fonts\\\\micross.ttf',\n",
       " 'C:\\\\WINDOWS\\\\Fonts\\\\msgothic.ttc',\n",
       " 'C:\\\\WINDOWS\\\\Fonts\\\\FRSCRIPT.TTF',\n",
       " 'C:\\\\WINDOWS\\\\Fonts\\\\arialbd.ttf',\n",
       " 'C:\\\\WINDOWS\\\\Fonts\\\\Gabriola.ttf',\n",
       " 'C:\\\\WINDOWS\\\\Fonts\\\\LHANDW.TTF',\n",
       " 'C:\\\\Windows\\\\Fonts\\\\ARIALNI.TTF',\n",
       " 'C:\\\\WINDOWS\\\\Fonts\\\\GOUDYSTO.TTF',\n",
       " 'C:\\\\WINDOWS\\\\Fonts\\\\TCB_____.TTF',\n",
       " 'C:\\\\WINDOWS\\\\Fonts\\\\segoeui.ttf',\n",
       " 'C:\\\\WINDOWS\\\\Fonts\\\\malgunsl.ttf',\n",
       " 'C:\\\\WINDOWS\\\\Fonts\\\\seguihis.ttf',\n",
       " 'C:\\\\Windows\\\\Fonts\\\\PER_____.TTF',\n",
       " 'C:\\\\Windows\\\\Fonts\\\\trebuc.ttf',\n",
       " 'C:\\\\WINDOWS\\\\Fonts\\\\LeelUIsl.ttf',\n",
       " 'C:\\\\Windows\\\\Fonts\\\\taile.ttf',\n",
       " 'C:\\\\WINDOWS\\\\Fonts\\\\segoesc.ttf',\n",
       " 'C:\\\\WINDOWS\\\\Fonts\\\\simsunb.ttf',\n",
       " 'C:\\\\Windows\\\\Fonts\\\\TEMPSITC.TTF',\n",
       " 'C:\\\\WINDOWS\\\\Fonts\\\\javatext.ttf',\n",
       " 'C:\\\\Windows\\\\Fonts\\\\comic.ttf',\n",
       " 'C:\\\\Windows\\\\Fonts\\\\georgia.ttf',\n",
       " 'C:\\\\Windows\\\\Fonts\\\\timesbd.ttf',\n",
       " 'C:\\\\WINDOWS\\\\Fonts\\\\ANTQUABI.TTF',\n",
       " 'C:\\\\WINDOWS\\\\Fonts\\\\VINERITC.TTF',\n",
       " 'C:\\\\WINDOWS\\\\Fonts\\\\LSANSI.TTF',\n",
       " 'C:\\\\WINDOWS\\\\Fonts\\\\LATINWD.TTF',\n",
       " 'C:\\\\Windows\\\\Fonts\\\\RAVIE.TTF',\n",
       " 'C:\\\\WINDOWS\\\\Fonts\\\\RAGE.TTF',\n",
       " 'C:\\\\WINDOWS\\\\Fonts\\\\DUBAI-REGULAR.TTF',\n",
       " 'C:\\\\WINDOWS\\\\Fonts\\\\ITCKRIST.TTF',\n",
       " 'C:\\\\WINDOWS\\\\Fonts\\\\PERTIBD.TTF',\n",
       " 'C:\\\\Windows\\\\Fonts\\\\times.ttf',\n",
       " 'C:\\\\Windows\\\\Fonts\\\\holomdl2.ttf',\n",
       " 'C:\\\\WINDOWS\\\\Fonts\\\\georgiai.ttf',\n",
       " 'C:\\\\Windows\\\\Fonts\\\\LeelUIsl.ttf',\n",
       " 'C:\\\\WINDOWS\\\\Fonts\\\\GARAIT.TTF',\n",
       " 'C:\\\\Windows\\\\Fonts\\\\seguisbi.ttf',\n",
       " 'C:\\\\Windows\\\\Fonts\\\\Inkfree.ttf',\n",
       " 'C:\\\\Windows\\\\Fonts\\\\corbelz.ttf',\n",
       " 'C:\\\\Windows\\\\Fonts\\\\SitkaI.ttc',\n",
       " 'C:\\\\WINDOWS\\\\Fonts\\\\seguisb.ttf',\n",
       " 'C:\\\\Windows\\\\Fonts\\\\SHOWG.TTF',\n",
       " 'C:\\\\Windows\\\\Fonts\\\\PERTIBD.TTF',\n",
       " 'C:\\\\Windows\\\\Fonts\\\\pala.ttf',\n",
       " 'C:\\\\Windows\\\\Fonts\\\\trebucit.ttf',\n",
       " 'C:\\\\Windows\\\\Fonts\\\\courbi.ttf',\n",
       " 'C:\\\\Windows\\\\Fonts\\\\LBRITEI.TTF',\n",
       " 'C:\\\\WINDOWS\\\\Fonts\\\\georgiab.ttf',\n",
       " 'C:\\\\Windows\\\\Fonts\\\\LSANSI.TTF',\n",
       " 'C:\\\\Windows\\\\Fonts\\\\ERASDEMI.TTF',\n",
       " 'C:\\\\Windows\\\\Fonts\\\\ANTQUAI.TTF',\n",
       " 'C:\\\\WINDOWS\\\\Fonts\\\\TCCEB.TTF',\n",
       " 'C:\\\\Windows\\\\Fonts\\\\ROCK.TTF',\n",
       " 'C:\\\\Program Files (x86)\\\\Adobe\\\\Acrobat DC\\\\Resource\\\\Font\\\\AdobeDevanagari-Bold.otf',\n",
       " 'C:\\\\WINDOWS\\\\Fonts\\\\ebrimabd.ttf',\n",
       " 'C:\\\\WINDOWS\\\\Fonts\\\\segoepr.ttf',\n",
       " 'C:\\\\Windows\\\\Fonts\\\\GILI____.TTF',\n",
       " 'C:\\\\WINDOWS\\\\Fonts\\\\mmrtextb.ttf',\n",
       " 'C:\\\\WINDOWS\\\\Fonts\\\\LBRITED.TTF',\n",
       " 'C:\\\\WINDOWS\\\\Fonts\\\\LFAXDI.TTF',\n",
       " 'C:\\\\Windows\\\\Fonts\\\\ARIALN.TTF',\n",
       " 'C:\\\\Windows\\\\Fonts\\\\FTLTLT.TTF',\n",
       " 'C:\\\\Windows\\\\Fonts\\\\gadugi.ttf',\n",
       " 'C:\\\\Windows\\\\Fonts\\\\REFSAN.TTF',\n",
       " 'C:\\\\WINDOWS\\\\Fonts\\\\palai.ttf',\n",
       " 'C:\\\\Windows\\\\Fonts\\\\BERNHC.TTF',\n",
       " 'C:\\\\WINDOWS\\\\Fonts\\\\DUBAI-MEDIUM.TTF',\n",
       " 'C:\\\\Windows\\\\Fonts\\\\impact.ttf',\n",
       " 'C:\\\\WINDOWS\\\\Fonts\\\\msjhl.ttc',\n",
       " 'C:\\\\WINDOWS\\\\Fonts\\\\SHOWG.TTF',\n",
       " 'C:\\\\Windows\\\\Fonts\\\\ebrima.ttf',\n",
       " 'C:\\\\Windows\\\\Fonts\\\\YuGothL.ttc',\n",
       " 'C:\\\\Windows\\\\Fonts\\\\PERB____.TTF',\n",
       " 'C:\\\\WINDOWS\\\\Fonts\\\\LSANS.TTF',\n",
       " 'C:\\\\Windows\\\\Fonts\\\\msjh.ttc',\n",
       " 'C:\\\\Windows\\\\Fonts\\\\CALIFI.TTF',\n",
       " 'C:\\\\Windows\\\\Fonts\\\\HARLOWSI.TTF',\n",
       " 'C:\\\\WINDOWS\\\\Fonts\\\\BELL.TTF',\n",
       " 'C:\\\\WINDOWS\\\\Fonts\\\\RAVIE.TTF',\n",
       " 'C:\\\\Windows\\\\Fonts\\\\CENSCBK.TTF',\n",
       " 'C:\\\\WINDOWS\\\\Fonts\\\\trebucbd.ttf',\n",
       " 'C:\\\\Windows\\\\Fonts\\\\ITCEDSCR.TTF',\n",
       " 'C:\\\\Windows\\\\Fonts\\\\LFAX.TTF',\n",
       " 'C:\\\\Windows\\\\Fonts\\\\ROCKI.TTF',\n",
       " 'C:\\\\WINDOWS\\\\Fonts\\\\LSANSDI.TTF',\n",
       " 'C:\\\\WINDOWS\\\\Fonts\\\\GILC____.TTF',\n",
       " 'C:\\\\Windows\\\\Fonts\\\\REFSPCL.TTF',\n",
       " 'C:\\\\Windows\\\\Fonts\\\\GARAIT.TTF',\n",
       " 'C:\\\\WINDOWS\\\\Fonts\\\\NIAGENG.TTF',\n",
       " 'C:\\\\WINDOWS\\\\Fonts\\\\tahoma.ttf',\n",
       " 'C:\\\\WINDOWS\\\\Fonts\\\\consola.ttf',\n",
       " 'C:\\\\WINDOWS\\\\Fonts\\\\comic.ttf',\n",
       " 'C:\\\\WINDOWS\\\\Fonts\\\\verdana.ttf',\n",
       " 'C:\\\\WINDOWS\\\\Fonts\\\\CALIFI.TTF',\n",
       " 'C:\\\\Windows\\\\Fonts\\\\l_10646.ttf',\n",
       " 'C:\\\\WINDOWS\\\\Fonts\\\\PLAYBILL.TTF',\n",
       " 'C:\\\\WINDOWS\\\\Fonts\\\\WINGDNG3.TTF',\n",
       " 'C:\\\\WINDOWS\\\\Fonts\\\\GARA.TTF',\n",
       " 'C:\\\\Windows\\\\Fonts\\\\GOTHICB.TTF',\n",
       " 'C:\\\\WINDOWS\\\\Fonts\\\\FREESCPT.TTF',\n",
       " 'C:\\\\Windows\\\\Fonts\\\\FREESCPT.TTF',\n",
       " 'C:\\\\Windows\\\\Fonts\\\\sylfaen.ttf',\n",
       " 'C:\\\\WINDOWS\\\\Fonts\\\\comicz.ttf',\n",
       " 'C:\\\\WINDOWS\\\\Fonts\\\\corbel.ttf',\n",
       " 'C:\\\\WINDOWS\\\\Fonts\\\\gadugi.ttf',\n",
       " 'C:\\\\Windows\\\\Fonts\\\\HTOWERT.TTF',\n",
       " 'C:\\\\Windows\\\\Fonts\\\\COOPBL.TTF',\n",
       " 'C:\\\\WINDOWS\\\\Fonts\\\\Candaraz.ttf',\n",
       " 'C:\\\\WINDOWS\\\\Fonts\\\\calibri.ttf',\n",
       " 'C:\\\\Windows\\\\Fonts\\\\javatext.ttf',\n",
       " 'C:\\\\Windows\\\\Fonts\\\\ARLRDBD.TTF',\n",
       " 'C:\\\\Windows\\\\Fonts\\\\seguili.ttf',\n",
       " 'C:\\\\Windows\\\\Fonts\\\\malgunbd.ttf',\n",
       " 'C:\\\\Windows\\\\Fonts\\\\HTOWERTI.TTF',\n",
       " 'C:\\\\Windows\\\\Fonts\\\\mmrtextb.ttf',\n",
       " 'C:\\\\WINDOWS\\\\Fonts\\\\FRADM.TTF',\n",
       " 'C:\\\\WINDOWS\\\\Fonts\\\\ERASLGHT.TTF',\n",
       " 'C:\\\\Windows\\\\Fonts\\\\TCM_____.TTF',\n",
       " 'C:\\\\WINDOWS\\\\Fonts\\\\ROCK.TTF',\n",
       " 'C:\\\\WINDOWS\\\\Fonts\\\\TCMI____.TTF',\n",
       " 'C:\\\\Windows\\\\Fonts\\\\palai.ttf',\n",
       " 'C:\\\\Windows\\\\Fonts\\\\ARIALNBI.TTF',\n",
       " 'C:\\\\WINDOWS\\\\Fonts\\\\LeelaUIb.ttf',\n",
       " 'C:\\\\WINDOWS\\\\Fonts\\\\cambriaz.ttf']"
      ]
     },
     "metadata": {},
     "execution_count": 43
    }
   ],
   "source": [
    "matplotlib.font_manager.findSystemFonts()"
   ]
  },
  {
   "cell_type": "code",
   "execution_count": 44,
   "metadata": {},
   "outputs": [],
   "source": [
    "plt.rcParams[\"font.serif\"] = \"VLADIMIR\"\n",
    "plt.rcParams[\"font.monospace\"] = \"comicz\"\n",
    "plt.rcParams[\"font.sans-serif\"] = \"CALIFI\""
   ]
  },
  {
   "cell_type": "code",
   "execution_count": 45,
   "metadata": {},
   "outputs": [],
   "source": [
    "import matplotlib.colors"
   ]
  },
  {
   "cell_type": "code",
   "execution_count": 46,
   "metadata": {},
   "outputs": [
    {
     "output_type": "execute_result",
     "data": {
      "text/plain": [
       "(0.27450980392156865, 0.5098039215686274, 0.7058823529411765, 1.0)"
      ]
     },
     "metadata": {},
     "execution_count": 46
    }
   ],
   "source": [
    "matplotlib.colors.to_rgba(\"steelblue\")"
   ]
  },
  {
   "cell_type": "code",
   "execution_count": 48,
   "metadata": {},
   "outputs": [
    {
     "output_type": "execute_result",
     "data": {
      "text/plain": [
       "'#4682b4'"
      ]
     },
     "metadata": {},
     "execution_count": 48
    }
   ],
   "source": [
    "matplotlib.colors.to_hex(\"steelblue\")"
   ]
  },
  {
   "cell_type": "code",
   "execution_count": 52,
   "metadata": {},
   "outputs": [
    {
     "output_type": "execute_result",
     "data": {
      "text/plain": [
       "array([[1.        , 0.75294118, 0.79607843, 1.        ],\n",
       "       [0.2745098 , 0.50980392, 0.70588235, 1.        ],\n",
       "       [1.        , 1.        , 1.        , 1.        ]])"
      ]
     },
     "metadata": {},
     "execution_count": 52
    }
   ],
   "source": [
    "my_colors = matplotlib.colors.to_rgba_array([\"pink\", \"steelblue\", \"#FFFFFF\"])\n",
    "my_colors"
   ]
  },
  {
   "cell_type": "code",
   "execution_count": 54,
   "metadata": {},
   "outputs": [
    {
     "output_type": "execute_result",
     "data": {
      "text/plain": [
       "array([[0.97089947, 0.24705882, 1.        ],\n",
       "       [0.57575758, 0.61111111, 0.70588235],\n",
       "       [0.        , 0.        , 1.        ]])"
      ]
     },
     "metadata": {},
     "execution_count": 54
    }
   ],
   "source": [
    "matplotlib.colors.rgb_to_hsv(my_colors[:,:3])"
   ]
  },
  {
   "cell_type": "code",
   "execution_count": 58,
   "metadata": {},
   "outputs": [],
   "source": [
    "my_new_cmap = matplotlib.colors.ListedColormap([\"pink\", \"steelblue\", \"#FFFFFF\"])"
   ]
  },
  {
   "cell_type": "code",
   "execution_count": 65,
   "metadata": {},
   "outputs": [
    {
     "output_type": "execute_result",
     "data": {
      "text/plain": [
       "<matplotlib.collections.PathCollection at 0x1bdde63d790>"
      ]
     },
     "metadata": {},
     "execution_count": 65
    },
    {
     "output_type": "display_data",
     "data": {
      "text/plain": "<Figure size 432x288 with 1 Axes>",
      "image/svg+xml": "<?xml version=\"1.0\" encoding=\"utf-8\" standalone=\"no\"?>\r\n<!DOCTYPE svg PUBLIC \"-//W3C//DTD SVG 1.1//EN\"\r\n  \"http://www.w3.org/Graphics/SVG/1.1/DTD/svg11.dtd\">\r\n<!-- Created with matplotlib (https://matplotlib.org/) -->\r\n<svg height=\"248.518125pt\" version=\"1.1\" viewBox=\"0 0 378.465625 248.518125\" width=\"378.465625pt\" xmlns=\"http://www.w3.org/2000/svg\" xmlns:xlink=\"http://www.w3.org/1999/xlink\">\r\n <metadata>\r\n  <rdf:RDF xmlns:cc=\"http://creativecommons.org/ns#\" xmlns:dc=\"http://purl.org/dc/elements/1.1/\" xmlns:rdf=\"http://www.w3.org/1999/02/22-rdf-syntax-ns#\">\r\n   <cc:Work>\r\n    <dc:type rdf:resource=\"http://purl.org/dc/dcmitype/StillImage\"/>\r\n    <dc:date>2021-03-30T11:14:50.542928</dc:date>\r\n    <dc:format>image/svg+xml</dc:format>\r\n    <dc:creator>\r\n     <cc:Agent>\r\n      <dc:title>Matplotlib v3.3.4, https://matplotlib.org/</dc:title>\r\n     </cc:Agent>\r\n    </dc:creator>\r\n   </cc:Work>\r\n  </rdf:RDF>\r\n </metadata>\r\n <defs>\r\n  <style type=\"text/css\">*{stroke-linecap:butt;stroke-linejoin:round;}</style>\r\n </defs>\r\n <g id=\"figure_1\">\r\n  <g id=\"patch_1\">\r\n   <path d=\"M 0 248.518125 \r\nL 378.465625 248.518125 \r\nL 378.465625 0 \r\nL 0 0 \r\nz\r\n\" style=\"fill:none;\"/>\r\n  </g>\r\n  <g id=\"axes_1\">\r\n   <g id=\"patch_2\">\r\n    <path d=\"M 36.465625 224.64 \r\nL 371.265625 224.64 \r\nL 371.265625 7.2 \r\nL 36.465625 7.2 \r\nz\r\n\" style=\"fill:#ffffff;\"/>\r\n   </g>\r\n   <g id=\"PathCollection_1\">\r\n    <defs>\r\n     <path d=\"M 0 3 \r\nC 0.795609 3 1.55874 2.683901 2.12132 2.12132 \r\nC 2.683901 1.55874 3 0.795609 3 -0 \r\nC 3 -0.795609 2.683901 -1.55874 2.12132 -2.12132 \r\nC 1.55874 -2.683901 0.795609 -3 0 -3 \r\nC -0.795609 -3 -1.55874 -2.683901 -2.12132 -2.12132 \r\nC -2.683901 -1.55874 -3 -0.795609 -3 0 \r\nC -3 0.795609 -2.683901 1.55874 -2.12132 2.12132 \r\nC -1.55874 2.683901 -0.795609 3 0 3 \r\nz\r\n\" id=\"C0_0_14c5d12589\"/>\r\n    </defs>\r\n    <g clip-path=\"url(#p909c30eef0)\">\r\n     <use style=\"fill:#ffc0cb;stroke:#ffc0cb;\" x=\"113.994382\" xlink:href=\"#C0_0_14c5d12589\" y=\"141.080848\"/>\r\n    </g>\r\n    <g clip-path=\"url(#p909c30eef0)\">\r\n     <use style=\"fill:#ffffff;stroke:#ffffff;\" x=\"274.849999\" xlink:href=\"#C0_0_14c5d12589\" y=\"80.62373\"/>\r\n    </g>\r\n    <g clip-path=\"url(#p909c30eef0)\">\r\n     <use style=\"fill:#ffc0cb;stroke:#ffc0cb;\" x=\"127.247211\" xlink:href=\"#C0_0_14c5d12589\" y=\"195.196514\"/>\r\n    </g>\r\n    <g clip-path=\"url(#p909c30eef0)\">\r\n     <use style=\"fill:#ffc0cb;stroke:#ffc0cb;\" x=\"163.050101\" xlink:href=\"#C0_0_14c5d12589\" y=\"121.500963\"/>\r\n    </g>\r\n    <g clip-path=\"url(#p909c30eef0)\">\r\n     <use style=\"fill:#ffc0cb;stroke:#ffc0cb;\" x=\"113.894235\" xlink:href=\"#C0_0_14c5d12589\" y=\"128.567555\"/>\r\n    </g>\r\n    <g clip-path=\"url(#p909c30eef0)\">\r\n     <use style=\"fill:#ffffff;stroke:#ffffff;\" x=\"86.296119\" xlink:href=\"#C0_0_14c5d12589\" y=\"128.748128\"/>\r\n    </g>\r\n    <g clip-path=\"url(#p909c30eef0)\">\r\n     <use style=\"fill:#ffffff;stroke:#ffffff;\" x=\"140.411161\" xlink:href=\"#C0_0_14c5d12589\" y=\"123.761541\"/>\r\n    </g>\r\n    <g clip-path=\"url(#p909c30eef0)\">\r\n     <use style=\"fill:#4682b4;stroke:#4682b4;\" x=\"175.008881\" xlink:href=\"#C0_0_14c5d12589\" y=\"151.114669\"/>\r\n    </g>\r\n    <g clip-path=\"url(#p909c30eef0)\">\r\n     <use style=\"fill:#ffc0cb;stroke:#ffc0cb;\" x=\"157.699109\" xlink:href=\"#C0_0_14c5d12589\" y=\"152.629289\"/>\r\n    </g>\r\n    <g clip-path=\"url(#p909c30eef0)\">\r\n     <use style=\"fill:#ffffff;stroke:#ffffff;\" x=\"316.053329\" xlink:href=\"#C0_0_14c5d12589\" y=\"101.479413\"/>\r\n    </g>\r\n    <g clip-path=\"url(#p909c30eef0)\">\r\n     <use style=\"fill:#ffffff;stroke:#ffffff;\" x=\"188.998592\" xlink:href=\"#C0_0_14c5d12589\" y=\"214.756364\"/>\r\n    </g>\r\n    <g clip-path=\"url(#p909c30eef0)\">\r\n     <use style=\"fill:#ffc0cb;stroke:#ffc0cb;\" x=\"99.976218\" xlink:href=\"#C0_0_14c5d12589\" y=\"17.083636\"/>\r\n    </g>\r\n    <g clip-path=\"url(#p909c30eef0)\">\r\n     <use style=\"fill:#ffffff;stroke:#ffffff;\" x=\"180.176205\" xlink:href=\"#C0_0_14c5d12589\" y=\"108.021268\"/>\r\n    </g>\r\n    <g clip-path=\"url(#p909c30eef0)\">\r\n     <use style=\"fill:#4682b4;stroke:#4682b4;\" x=\"280.616494\" xlink:href=\"#C0_0_14c5d12589\" y=\"154.063671\"/>\r\n    </g>\r\n    <g clip-path=\"url(#p909c30eef0)\">\r\n     <use style=\"fill:#ffc0cb;stroke:#ffc0cb;\" x=\"122.349351\" xlink:href=\"#C0_0_14c5d12589\" y=\"123.231578\"/>\r\n    </g>\r\n    <g clip-path=\"url(#p909c30eef0)\">\r\n     <use style=\"fill:#ffffff;stroke:#ffffff;\" x=\"117.701803\" xlink:href=\"#C0_0_14c5d12589\" y=\"145.512423\"/>\r\n    </g>\r\n    <g clip-path=\"url(#p909c30eef0)\">\r\n     <use style=\"fill:#4682b4;stroke:#4682b4;\" x=\"224.14989\" xlink:href=\"#C0_0_14c5d12589\" y=\"189.19286\"/>\r\n    </g>\r\n    <g clip-path=\"url(#p909c30eef0)\">\r\n     <use style=\"fill:#ffffff;stroke:#ffffff;\" x=\"51.683807\" xlink:href=\"#C0_0_14c5d12589\" y=\"75.142214\"/>\r\n    </g>\r\n    <g clip-path=\"url(#p909c30eef0)\">\r\n     <use style=\"fill:#ffc0cb;stroke:#ffc0cb;\" x=\"204.5982\" xlink:href=\"#C0_0_14c5d12589\" y=\"61.15315\"/>\r\n    </g>\r\n    <g clip-path=\"url(#p909c30eef0)\">\r\n     <use style=\"fill:#4682b4;stroke:#4682b4;\" x=\"177.254894\" xlink:href=\"#C0_0_14c5d12589\" y=\"120.594023\"/>\r\n    </g>\r\n    <g clip-path=\"url(#p909c30eef0)\">\r\n     <use style=\"fill:#4682b4;stroke:#4682b4;\" x=\"99.157083\" xlink:href=\"#C0_0_14c5d12589\" y=\"129.866933\"/>\r\n    </g>\r\n    <g clip-path=\"url(#p909c30eef0)\">\r\n     <use style=\"fill:#4682b4;stroke:#4682b4;\" x=\"295.920796\" xlink:href=\"#C0_0_14c5d12589\" y=\"72.945404\"/>\r\n    </g>\r\n    <g clip-path=\"url(#p909c30eef0)\">\r\n     <use style=\"fill:#4682b4;stroke:#4682b4;\" x=\"196.101082\" xlink:href=\"#C0_0_14c5d12589\" y=\"110.84535\"/>\r\n    </g>\r\n    <g clip-path=\"url(#p909c30eef0)\">\r\n     <use style=\"fill:#4682b4;stroke:#4682b4;\" x=\"172.46577\" xlink:href=\"#C0_0_14c5d12589\" y=\"151.80382\"/>\r\n    </g>\r\n    <g clip-path=\"url(#p909c30eef0)\">\r\n     <use style=\"fill:#4682b4;stroke:#4682b4;\" x=\"356.047443\" xlink:href=\"#C0_0_14c5d12589\" y=\"188.098701\"/>\r\n    </g>\r\n   </g>\r\n   <g id=\"matplotlib.axis_1\">\r\n    <g id=\"xtick_1\">\r\n     <g id=\"line2d_1\">\r\n      <defs>\r\n       <path d=\"M 0 0 \r\nL 0 3.5 \r\n\" id=\"mce4de8eef7\" style=\"stroke:#000000;stroke-width:0.8;\"/>\r\n      </defs>\r\n      <g>\r\n       <use style=\"stroke:#000000;stroke-width:0.8;\" x=\"46.273207\" xlink:href=\"#mce4de8eef7\" y=\"224.64\"/>\r\n      </g>\r\n     </g>\r\n     <g id=\"text_1\">\r\n      <!-- 0.40 -->\r\n      <g transform=\"translate(35.140394 239.238437)scale(0.1 -0.1)\">\r\n       <defs>\r\n        <path d=\"M 31.78125 66.40625 \r\nQ 24.171875 66.40625 20.328125 58.90625 \r\nQ 16.5 51.421875 16.5 36.375 \r\nQ 16.5 21.390625 20.328125 13.890625 \r\nQ 24.171875 6.390625 31.78125 6.390625 \r\nQ 39.453125 6.390625 43.28125 13.890625 \r\nQ 47.125 21.390625 47.125 36.375 \r\nQ 47.125 51.421875 43.28125 58.90625 \r\nQ 39.453125 66.40625 31.78125 66.40625 \r\nz\r\nM 31.78125 74.21875 \r\nQ 44.046875 74.21875 50.515625 64.515625 \r\nQ 56.984375 54.828125 56.984375 36.375 \r\nQ 56.984375 17.96875 50.515625 8.265625 \r\nQ 44.046875 -1.421875 31.78125 -1.421875 \r\nQ 19.53125 -1.421875 13.0625 8.265625 \r\nQ 6.59375 17.96875 6.59375 36.375 \r\nQ 6.59375 54.828125 13.0625 64.515625 \r\nQ 19.53125 74.21875 31.78125 74.21875 \r\nz\r\n\" id=\"DejaVuSans-48\"/>\r\n        <path d=\"M 10.6875 12.40625 \r\nL 21 12.40625 \r\nL 21 0 \r\nL 10.6875 0 \r\nz\r\n\" id=\"DejaVuSans-46\"/>\r\n        <path d=\"M 37.796875 64.3125 \r\nL 12.890625 25.390625 \r\nL 37.796875 25.390625 \r\nz\r\nM 35.203125 72.90625 \r\nL 47.609375 72.90625 \r\nL 47.609375 25.390625 \r\nL 58.015625 25.390625 \r\nL 58.015625 17.1875 \r\nL 47.609375 17.1875 \r\nL 47.609375 0 \r\nL 37.796875 0 \r\nL 37.796875 17.1875 \r\nL 4.890625 17.1875 \r\nL 4.890625 26.703125 \r\nz\r\n\" id=\"DejaVuSans-52\"/>\r\n       </defs>\r\n       <use xlink:href=\"#DejaVuSans-48\"/>\r\n       <use x=\"63.623047\" xlink:href=\"#DejaVuSans-46\"/>\r\n       <use x=\"95.410156\" xlink:href=\"#DejaVuSans-52\"/>\r\n       <use x=\"159.033203\" xlink:href=\"#DejaVuSans-48\"/>\r\n      </g>\r\n     </g>\r\n    </g>\r\n    <g id=\"xtick_2\">\r\n     <g id=\"line2d_2\">\r\n      <g>\r\n       <use style=\"stroke:#000000;stroke-width:0.8;\" x=\"114.395152\" xlink:href=\"#mce4de8eef7\" y=\"224.64\"/>\r\n      </g>\r\n     </g>\r\n     <g id=\"text_2\">\r\n      <!-- 0.45 -->\r\n      <g transform=\"translate(103.26234 239.238437)scale(0.1 -0.1)\">\r\n       <defs>\r\n        <path d=\"M 10.796875 72.90625 \r\nL 49.515625 72.90625 \r\nL 49.515625 64.59375 \r\nL 19.828125 64.59375 \r\nL 19.828125 46.734375 \r\nQ 21.96875 47.46875 24.109375 47.828125 \r\nQ 26.265625 48.1875 28.421875 48.1875 \r\nQ 40.625 48.1875 47.75 41.5 \r\nQ 54.890625 34.8125 54.890625 23.390625 \r\nQ 54.890625 11.625 47.5625 5.09375 \r\nQ 40.234375 -1.421875 26.90625 -1.421875 \r\nQ 22.3125 -1.421875 17.546875 -0.640625 \r\nQ 12.796875 0.140625 7.71875 1.703125 \r\nL 7.71875 11.625 \r\nQ 12.109375 9.234375 16.796875 8.0625 \r\nQ 21.484375 6.890625 26.703125 6.890625 \r\nQ 35.15625 6.890625 40.078125 11.328125 \r\nQ 45.015625 15.765625 45.015625 23.390625 \r\nQ 45.015625 31 40.078125 35.4375 \r\nQ 35.15625 39.890625 26.703125 39.890625 \r\nQ 22.75 39.890625 18.8125 39.015625 \r\nQ 14.890625 38.140625 10.796875 36.28125 \r\nz\r\n\" id=\"DejaVuSans-53\"/>\r\n       </defs>\r\n       <use xlink:href=\"#DejaVuSans-48\"/>\r\n       <use x=\"63.623047\" xlink:href=\"#DejaVuSans-46\"/>\r\n       <use x=\"95.410156\" xlink:href=\"#DejaVuSans-52\"/>\r\n       <use x=\"159.033203\" xlink:href=\"#DejaVuSans-53\"/>\r\n      </g>\r\n     </g>\r\n    </g>\r\n    <g id=\"xtick_3\">\r\n     <g id=\"line2d_3\">\r\n      <g>\r\n       <use style=\"stroke:#000000;stroke-width:0.8;\" x=\"182.517098\" xlink:href=\"#mce4de8eef7\" y=\"224.64\"/>\r\n      </g>\r\n     </g>\r\n     <g id=\"text_3\">\r\n      <!-- 0.50 -->\r\n      <g transform=\"translate(171.384285 239.238437)scale(0.1 -0.1)\">\r\n       <use xlink:href=\"#DejaVuSans-48\"/>\r\n       <use x=\"63.623047\" xlink:href=\"#DejaVuSans-46\"/>\r\n       <use x=\"95.410156\" xlink:href=\"#DejaVuSans-53\"/>\r\n       <use x=\"159.033203\" xlink:href=\"#DejaVuSans-48\"/>\r\n      </g>\r\n     </g>\r\n    </g>\r\n    <g id=\"xtick_4\">\r\n     <g id=\"line2d_4\">\r\n      <g>\r\n       <use style=\"stroke:#000000;stroke-width:0.8;\" x=\"250.639044\" xlink:href=\"#mce4de8eef7\" y=\"224.64\"/>\r\n      </g>\r\n     </g>\r\n     <g id=\"text_4\">\r\n      <!-- 0.55 -->\r\n      <g transform=\"translate(239.506231 239.238437)scale(0.1 -0.1)\">\r\n       <use xlink:href=\"#DejaVuSans-48\"/>\r\n       <use x=\"63.623047\" xlink:href=\"#DejaVuSans-46\"/>\r\n       <use x=\"95.410156\" xlink:href=\"#DejaVuSans-53\"/>\r\n       <use x=\"159.033203\" xlink:href=\"#DejaVuSans-53\"/>\r\n      </g>\r\n     </g>\r\n    </g>\r\n    <g id=\"xtick_5\">\r\n     <g id=\"line2d_5\">\r\n      <g>\r\n       <use style=\"stroke:#000000;stroke-width:0.8;\" x=\"318.760989\" xlink:href=\"#mce4de8eef7\" y=\"224.64\"/>\r\n      </g>\r\n     </g>\r\n     <g id=\"text_5\">\r\n      <!-- 0.60 -->\r\n      <g transform=\"translate(307.628177 239.238437)scale(0.1 -0.1)\">\r\n       <defs>\r\n        <path d=\"M 33.015625 40.375 \r\nQ 26.375 40.375 22.484375 35.828125 \r\nQ 18.609375 31.296875 18.609375 23.390625 \r\nQ 18.609375 15.53125 22.484375 10.953125 \r\nQ 26.375 6.390625 33.015625 6.390625 \r\nQ 39.65625 6.390625 43.53125 10.953125 \r\nQ 47.40625 15.53125 47.40625 23.390625 \r\nQ 47.40625 31.296875 43.53125 35.828125 \r\nQ 39.65625 40.375 33.015625 40.375 \r\nz\r\nM 52.59375 71.296875 \r\nL 52.59375 62.3125 \r\nQ 48.875 64.0625 45.09375 64.984375 \r\nQ 41.3125 65.921875 37.59375 65.921875 \r\nQ 27.828125 65.921875 22.671875 59.328125 \r\nQ 17.53125 52.734375 16.796875 39.40625 \r\nQ 19.671875 43.65625 24.015625 45.921875 \r\nQ 28.375 48.1875 33.59375 48.1875 \r\nQ 44.578125 48.1875 50.953125 41.515625 \r\nQ 57.328125 34.859375 57.328125 23.390625 \r\nQ 57.328125 12.15625 50.6875 5.359375 \r\nQ 44.046875 -1.421875 33.015625 -1.421875 \r\nQ 20.359375 -1.421875 13.671875 8.265625 \r\nQ 6.984375 17.96875 6.984375 36.375 \r\nQ 6.984375 53.65625 15.1875 63.9375 \r\nQ 23.390625 74.21875 37.203125 74.21875 \r\nQ 40.921875 74.21875 44.703125 73.484375 \r\nQ 48.484375 72.75 52.59375 71.296875 \r\nz\r\n\" id=\"DejaVuSans-54\"/>\r\n       </defs>\r\n       <use xlink:href=\"#DejaVuSans-48\"/>\r\n       <use x=\"63.623047\" xlink:href=\"#DejaVuSans-46\"/>\r\n       <use x=\"95.410156\" xlink:href=\"#DejaVuSans-54\"/>\r\n       <use x=\"159.033203\" xlink:href=\"#DejaVuSans-48\"/>\r\n      </g>\r\n     </g>\r\n    </g>\r\n   </g>\r\n   <g id=\"matplotlib.axis_2\">\r\n    <g id=\"ytick_1\">\r\n     <g id=\"line2d_6\">\r\n      <defs>\r\n       <path d=\"M 0 0 \r\nL -3.5 0 \r\n\" id=\"m4790528cc5\" style=\"stroke:#000000;stroke-width:0.8;\"/>\r\n      </defs>\r\n      <g>\r\n       <use style=\"stroke:#000000;stroke-width:0.8;\" x=\"36.465625\" xlink:href=\"#m4790528cc5\" y=\"212.364846\"/>\r\n      </g>\r\n     </g>\r\n     <g id=\"text_6\">\r\n      <!-- 0.40 -->\r\n      <g transform=\"translate(7.2 216.164064)scale(0.1 -0.1)\">\r\n       <use xlink:href=\"#DejaVuSans-48\"/>\r\n       <use x=\"63.623047\" xlink:href=\"#DejaVuSans-46\"/>\r\n       <use x=\"95.410156\" xlink:href=\"#DejaVuSans-52\"/>\r\n       <use x=\"159.033203\" xlink:href=\"#DejaVuSans-48\"/>\r\n      </g>\r\n     </g>\r\n    </g>\r\n    <g id=\"ytick_2\">\r\n     <g id=\"line2d_7\">\r\n      <g>\r\n       <use style=\"stroke:#000000;stroke-width:0.8;\" x=\"36.465625\" xlink:href=\"#m4790528cc5\" y=\"169.459265\"/>\r\n      </g>\r\n     </g>\r\n     <g id=\"text_7\">\r\n      <!-- 0.45 -->\r\n      <g transform=\"translate(7.2 173.258484)scale(0.1 -0.1)\">\r\n       <use xlink:href=\"#DejaVuSans-48\"/>\r\n       <use x=\"63.623047\" xlink:href=\"#DejaVuSans-46\"/>\r\n       <use x=\"95.410156\" xlink:href=\"#DejaVuSans-52\"/>\r\n       <use x=\"159.033203\" xlink:href=\"#DejaVuSans-53\"/>\r\n      </g>\r\n     </g>\r\n    </g>\r\n    <g id=\"ytick_3\">\r\n     <g id=\"line2d_8\">\r\n      <g>\r\n       <use style=\"stroke:#000000;stroke-width:0.8;\" x=\"36.465625\" xlink:href=\"#m4790528cc5\" y=\"126.553685\"/>\r\n      </g>\r\n     </g>\r\n     <g id=\"text_8\">\r\n      <!-- 0.50 -->\r\n      <g transform=\"translate(7.2 130.352904)scale(0.1 -0.1)\">\r\n       <use xlink:href=\"#DejaVuSans-48\"/>\r\n       <use x=\"63.623047\" xlink:href=\"#DejaVuSans-46\"/>\r\n       <use x=\"95.410156\" xlink:href=\"#DejaVuSans-53\"/>\r\n       <use x=\"159.033203\" xlink:href=\"#DejaVuSans-48\"/>\r\n      </g>\r\n     </g>\r\n    </g>\r\n    <g id=\"ytick_4\">\r\n     <g id=\"line2d_9\">\r\n      <g>\r\n       <use style=\"stroke:#000000;stroke-width:0.8;\" x=\"36.465625\" xlink:href=\"#m4790528cc5\" y=\"83.648105\"/>\r\n      </g>\r\n     </g>\r\n     <g id=\"text_9\">\r\n      <!-- 0.55 -->\r\n      <g transform=\"translate(7.2 87.447323)scale(0.1 -0.1)\">\r\n       <use xlink:href=\"#DejaVuSans-48\"/>\r\n       <use x=\"63.623047\" xlink:href=\"#DejaVuSans-46\"/>\r\n       <use x=\"95.410156\" xlink:href=\"#DejaVuSans-53\"/>\r\n       <use x=\"159.033203\" xlink:href=\"#DejaVuSans-53\"/>\r\n      </g>\r\n     </g>\r\n    </g>\r\n    <g id=\"ytick_5\">\r\n     <g id=\"line2d_10\">\r\n      <g>\r\n       <use style=\"stroke:#000000;stroke-width:0.8;\" x=\"36.465625\" xlink:href=\"#m4790528cc5\" y=\"40.742524\"/>\r\n      </g>\r\n     </g>\r\n     <g id=\"text_10\">\r\n      <!-- 0.60 -->\r\n      <g transform=\"translate(7.2 44.541743)scale(0.1 -0.1)\">\r\n       <use xlink:href=\"#DejaVuSans-48\"/>\r\n       <use x=\"63.623047\" xlink:href=\"#DejaVuSans-46\"/>\r\n       <use x=\"95.410156\" xlink:href=\"#DejaVuSans-54\"/>\r\n       <use x=\"159.033203\" xlink:href=\"#DejaVuSans-48\"/>\r\n      </g>\r\n     </g>\r\n    </g>\r\n   </g>\r\n   <g id=\"patch_3\">\r\n    <path d=\"M 36.465625 224.64 \r\nL 36.465625 7.2 \r\n\" style=\"fill:none;stroke:#000000;stroke-linecap:square;stroke-linejoin:miter;stroke-width:0.8;\"/>\r\n   </g>\r\n   <g id=\"patch_4\">\r\n    <path d=\"M 371.265625 224.64 \r\nL 371.265625 7.2 \r\n\" style=\"fill:none;stroke:#000000;stroke-linecap:square;stroke-linejoin:miter;stroke-width:0.8;\"/>\r\n   </g>\r\n   <g id=\"patch_5\">\r\n    <path d=\"M 36.465625 224.64 \r\nL 371.265625 224.64 \r\n\" style=\"fill:none;stroke:#000000;stroke-linecap:square;stroke-linejoin:miter;stroke-width:0.8;\"/>\r\n   </g>\r\n   <g id=\"patch_6\">\r\n    <path d=\"M 36.465625 7.2 \r\nL 371.265625 7.2 \r\n\" style=\"fill:none;stroke:#000000;stroke-linecap:square;stroke-linejoin:miter;stroke-width:0.8;\"/>\r\n   </g>\r\n  </g>\r\n </g>\r\n <defs>\r\n  <clipPath id=\"p909c30eef0\">\r\n   <rect height=\"217.44\" width=\"334.8\" x=\"36.465625\" y=\"7.2\"/>\r\n  </clipPath>\r\n </defs>\r\n</svg>\r\n",
      "image/png": "[encoded data removed]"
     },
     "metadata": {
      "needs_background": "light"
     }
    }
   ],
   "source": [
    "plt.scatter(v3[:,0], v3[:,1], c=v3[:,2], cmap=my_new_cmap)"
   ]
  },
  {
   "cell_type": "code",
   "execution_count": 69,
   "metadata": {},
   "outputs": [],
   "source": [
    "import matplotlib.image"
   ]
  },
  {
   "cell_type": "code",
   "execution_count": 70,
   "metadata": {},
   "outputs": [
    {
     "output_type": "error",
     "ename": "SyntaxError",
     "evalue": "(unicode error) 'unicodeescape' codec can't decode bytes in position 2-3: truncated \\UXXXXXXXX escape (<ipython-input-70-2c3f6c5111e7>, line 1)",
     "traceback": [
      "\u001b[1;36m  File \u001b[1;32m\"<ipython-input-70-2c3f6c5111e7>\"\u001b[1;36m, line \u001b[1;32m1\u001b[0m\n\u001b[1;33m    matplotlib.image.imread(\"C:\\Users\\brenna\\Desktop\\Desktop Backgrounds\\Nature\\Photography\\9ktVTI.jpg\")\u001b[0m\n\u001b[1;37m                                                                                                       ^\u001b[0m\n\u001b[1;31mSyntaxError\u001b[0m\u001b[1;31m:\u001b[0m (unicode error) 'unicodeescape' codec can't decode bytes in position 2-3: truncated \\UXXXXXXXX escape\n"
     ]
    }
   ],
   "source": [
    "matplotlib.image.imread(\"C:\\Users\\brenna\\Desktop\\Desktop Backgrounds\\Nature\\Photography\\9ktVTI.jpg\")"
   ]
  },
  {
   "cell_type": "code",
   "execution_count": 71,
   "metadata": {},
   "outputs": [],
   "source": [
    "import matplotlib.text"
   ]
  },
  {
   "cell_type": "code",
   "execution_count": 72,
   "metadata": {},
   "outputs": [],
   "source": [
    "import matplotlib.markers"
   ]
  },
  {
   "cell_type": "code",
   "execution_count": 74,
   "metadata": {},
   "outputs": [
    {
     "output_type": "execute_result",
     "data": {
      "text/plain": [
       "<matplotlib.collections.PathCollection at 0x1bdde0d3a60>"
      ]
     },
     "metadata": {},
     "execution_count": 74
    },
    {
     "output_type": "display_data",
     "data": {
      "text/plain": "<Figure size 432x288 with 1 Axes>",
      "image/svg+xml": "<?xml version=\"1.0\" encoding=\"utf-8\" standalone=\"no\"?>\r\n<!DOCTYPE svg PUBLIC \"-//W3C//DTD SVG 1.1//EN\"\r\n  \"http://www.w3.org/Graphics/SVG/1.1/DTD/svg11.dtd\">\r\n<!-- Created with matplotlib (https://matplotlib.org/) -->\r\n<svg height=\"248.518125pt\" version=\"1.1\" viewBox=\"0 0 374.294032 248.518125\" width=\"374.294032pt\" xmlns=\"http://www.w3.org/2000/svg\" xmlns:xlink=\"http://www.w3.org/1999/xlink\">\r\n <metadata>\r\n  <rdf:RDF xmlns:cc=\"http://creativecommons.org/ns#\" xmlns:dc=\"http://purl.org/dc/elements/1.1/\" xmlns:rdf=\"http://www.w3.org/1999/02/22-rdf-syntax-ns#\">\r\n   <cc:Work>\r\n    <dc:type rdf:resource=\"http://purl.org/dc/dcmitype/StillImage\"/>\r\n    <dc:date>2021-03-30T11:31:10.463872</dc:date>\r\n    <dc:format>image/svg+xml</dc:format>\r\n    <dc:creator>\r\n     <cc:Agent>\r\n      <dc:title>Matplotlib v3.3.4, https://matplotlib.org/</dc:title>\r\n     </cc:Agent>\r\n    </dc:creator>\r\n   </cc:Work>\r\n  </rdf:RDF>\r\n </metadata>\r\n <defs>\r\n  <style type=\"text/css\">*{stroke-linecap:butt;stroke-linejoin:round;}</style>\r\n </defs>\r\n <g id=\"figure_1\">\r\n  <g id=\"patch_1\">\r\n   <path d=\"M 0 248.518125 \r\nL 374.294032 248.518125 \r\nL 374.294032 0 \r\nL 0 0 \r\nz\r\n\" style=\"fill:none;\"/>\r\n  </g>\r\n  <g id=\"axes_1\">\r\n   <g id=\"patch_2\">\r\n    <path d=\"M 30.103125 224.64 \r\nL 364.903125 224.64 \r\nL 364.903125 7.2 \r\nL 30.103125 7.2 \r\nz\r\n\" style=\"fill:#ffffff;\"/>\r\n   </g>\r\n   <g id=\"PathCollection_1\">\r\n    <defs>\r\n     <path d=\"M -4.5 3 \r\nL 0 0 \r\nL -4.5 -3 \r\n\" id=\"m67c31ddc8f\" style=\"stroke:#1f77b4;stroke-width:1.5;\"/>\r\n    </defs>\r\n    <g clip-path=\"url(#p5460c76379)\">\r\n     <use style=\"fill:#1f77b4;stroke:#1f77b4;stroke-width:1.5;\" x=\"277.79324\" xlink:href=\"#m67c31ddc8f\" y=\"17.083636\"/>\r\n     <use style=\"fill:#1f77b4;stroke:#1f77b4;stroke-width:1.5;\" x=\"45.321307\" xlink:href=\"#m67c31ddc8f\" y=\"118.908868\"/>\r\n     <use style=\"fill:#1f77b4;stroke:#1f77b4;stroke-width:1.5;\" x=\"119.308237\" xlink:href=\"#m67c31ddc8f\" y=\"112.769842\"/>\r\n     <use style=\"fill:#1f77b4;stroke:#1f77b4;stroke-width:1.5;\" x=\"301.309459\" xlink:href=\"#m67c31ddc8f\" y=\"47.750597\"/>\r\n     <use style=\"fill:#1f77b4;stroke:#1f77b4;stroke-width:1.5;\" x=\"211.902185\" xlink:href=\"#m67c31ddc8f\" y=\"59.829344\"/>\r\n     <use style=\"fill:#1f77b4;stroke:#1f77b4;stroke-width:1.5;\" x=\"176.410665\" xlink:href=\"#m67c31ddc8f\" y=\"53.621046\"/>\r\n     <use style=\"fill:#1f77b4;stroke:#1f77b4;stroke-width:1.5;\" x=\"236.972807\" xlink:href=\"#m67c31ddc8f\" y=\"30.155776\"/>\r\n     <use style=\"fill:#1f77b4;stroke:#1f77b4;stroke-width:1.5;\" x=\"111.344209\" xlink:href=\"#m67c31ddc8f\" y=\"76.977935\"/>\r\n     <use style=\"fill:#1f77b4;stroke:#1f77b4;stroke-width:1.5;\" x=\"349.684943\" xlink:href=\"#m67c31ddc8f\" y=\"214.756364\"/>\r\n     <use style=\"fill:#1f77b4;stroke:#1f77b4;stroke-width:1.5;\" x=\"193.381451\" xlink:href=\"#m67c31ddc8f\" y=\"67.17097\"/>\r\n    </g>\r\n   </g>\r\n   <g id=\"matplotlib.axis_1\">\r\n    <g id=\"xtick_1\">\r\n     <g id=\"line2d_1\">\r\n      <defs>\r\n       <path d=\"M 0 0 \r\nL 0 3.5 \r\n\" id=\"m98d3d75310\" style=\"stroke:#000000;stroke-width:0.8;\"/>\r\n      </defs>\r\n      <g>\r\n       <use style=\"stroke:#000000;stroke-width:0.8;\" x=\"65.520181\" xlink:href=\"#m98d3d75310\" y=\"224.64\"/>\r\n      </g>\r\n     </g>\r\n     <g id=\"text_1\">\r\n      <!-- 0.2 -->\r\n      <g transform=\"translate(57.568618 239.238437)scale(0.1 -0.1)\">\r\n       <defs>\r\n        <path d=\"M 31.78125 66.40625 \r\nQ 24.171875 66.40625 20.328125 58.90625 \r\nQ 16.5 51.421875 16.5 36.375 \r\nQ 16.5 21.390625 20.328125 13.890625 \r\nQ 24.171875 6.390625 31.78125 6.390625 \r\nQ 39.453125 6.390625 43.28125 13.890625 \r\nQ 47.125 21.390625 47.125 36.375 \r\nQ 47.125 51.421875 43.28125 58.90625 \r\nQ 39.453125 66.40625 31.78125 66.40625 \r\nz\r\nM 31.78125 74.21875 \r\nQ 44.046875 74.21875 50.515625 64.515625 \r\nQ 56.984375 54.828125 56.984375 36.375 \r\nQ 56.984375 17.96875 50.515625 8.265625 \r\nQ 44.046875 -1.421875 31.78125 -1.421875 \r\nQ 19.53125 -1.421875 13.0625 8.265625 \r\nQ 6.59375 17.96875 6.59375 36.375 \r\nQ 6.59375 54.828125 13.0625 64.515625 \r\nQ 19.53125 74.21875 31.78125 74.21875 \r\nz\r\n\" id=\"DejaVuSans-48\"/>\r\n        <path d=\"M 10.6875 12.40625 \r\nL 21 12.40625 \r\nL 21 0 \r\nL 10.6875 0 \r\nz\r\n\" id=\"DejaVuSans-46\"/>\r\n        <path d=\"M 19.1875 8.296875 \r\nL 53.609375 8.296875 \r\nL 53.609375 0 \r\nL 7.328125 0 \r\nL 7.328125 8.296875 \r\nQ 12.9375 14.109375 22.625 23.890625 \r\nQ 32.328125 33.6875 34.8125 36.53125 \r\nQ 39.546875 41.84375 41.421875 45.53125 \r\nQ 43.3125 49.21875 43.3125 52.78125 \r\nQ 43.3125 58.59375 39.234375 62.25 \r\nQ 35.15625 65.921875 28.609375 65.921875 \r\nQ 23.96875 65.921875 18.8125 64.3125 \r\nQ 13.671875 62.703125 7.8125 59.421875 \r\nL 7.8125 69.390625 \r\nQ 13.765625 71.78125 18.9375 73 \r\nQ 24.125 74.21875 28.421875 74.21875 \r\nQ 39.75 74.21875 46.484375 68.546875 \r\nQ 53.21875 62.890625 53.21875 53.421875 \r\nQ 53.21875 48.921875 51.53125 44.890625 \r\nQ 49.859375 40.875 45.40625 35.40625 \r\nQ 44.1875 33.984375 37.640625 27.21875 \r\nQ 31.109375 20.453125 19.1875 8.296875 \r\nz\r\n\" id=\"DejaVuSans-50\"/>\r\n       </defs>\r\n       <use xlink:href=\"#DejaVuSans-48\"/>\r\n       <use x=\"63.623047\" xlink:href=\"#DejaVuSans-46\"/>\r\n       <use x=\"95.410156\" xlink:href=\"#DejaVuSans-50\"/>\r\n      </g>\r\n     </g>\r\n    </g>\r\n    <g id=\"xtick_2\">\r\n     <g id=\"line2d_2\">\r\n      <g>\r\n       <use style=\"stroke:#000000;stroke-width:0.8;\" x=\"138.925753\" xlink:href=\"#m98d3d75310\" y=\"224.64\"/>\r\n      </g>\r\n     </g>\r\n     <g id=\"text_2\">\r\n      <!-- 0.4 -->\r\n      <g transform=\"translate(130.97419 239.238437)scale(0.1 -0.1)\">\r\n       <defs>\r\n        <path d=\"M 37.796875 64.3125 \r\nL 12.890625 25.390625 \r\nL 37.796875 25.390625 \r\nz\r\nM 35.203125 72.90625 \r\nL 47.609375 72.90625 \r\nL 47.609375 25.390625 \r\nL 58.015625 25.390625 \r\nL 58.015625 17.1875 \r\nL 47.609375 17.1875 \r\nL 47.609375 0 \r\nL 37.796875 0 \r\nL 37.796875 17.1875 \r\nL 4.890625 17.1875 \r\nL 4.890625 26.703125 \r\nz\r\n\" id=\"DejaVuSans-52\"/>\r\n       </defs>\r\n       <use xlink:href=\"#DejaVuSans-48\"/>\r\n       <use x=\"63.623047\" xlink:href=\"#DejaVuSans-46\"/>\r\n       <use x=\"95.410156\" xlink:href=\"#DejaVuSans-52\"/>\r\n      </g>\r\n     </g>\r\n    </g>\r\n    <g id=\"xtick_3\">\r\n     <g id=\"line2d_3\">\r\n      <g>\r\n       <use style=\"stroke:#000000;stroke-width:0.8;\" x=\"212.331325\" xlink:href=\"#m98d3d75310\" y=\"224.64\"/>\r\n      </g>\r\n     </g>\r\n     <g id=\"text_3\">\r\n      <!-- 0.6 -->\r\n      <g transform=\"translate(204.379763 239.238437)scale(0.1 -0.1)\">\r\n       <defs>\r\n        <path d=\"M 33.015625 40.375 \r\nQ 26.375 40.375 22.484375 35.828125 \r\nQ 18.609375 31.296875 18.609375 23.390625 \r\nQ 18.609375 15.53125 22.484375 10.953125 \r\nQ 26.375 6.390625 33.015625 6.390625 \r\nQ 39.65625 6.390625 43.53125 10.953125 \r\nQ 47.40625 15.53125 47.40625 23.390625 \r\nQ 47.40625 31.296875 43.53125 35.828125 \r\nQ 39.65625 40.375 33.015625 40.375 \r\nz\r\nM 52.59375 71.296875 \r\nL 52.59375 62.3125 \r\nQ 48.875 64.0625 45.09375 64.984375 \r\nQ 41.3125 65.921875 37.59375 65.921875 \r\nQ 27.828125 65.921875 22.671875 59.328125 \r\nQ 17.53125 52.734375 16.796875 39.40625 \r\nQ 19.671875 43.65625 24.015625 45.921875 \r\nQ 28.375 48.1875 33.59375 48.1875 \r\nQ 44.578125 48.1875 50.953125 41.515625 \r\nQ 57.328125 34.859375 57.328125 23.390625 \r\nQ 57.328125 12.15625 50.6875 5.359375 \r\nQ 44.046875 -1.421875 33.015625 -1.421875 \r\nQ 20.359375 -1.421875 13.671875 8.265625 \r\nQ 6.984375 17.96875 6.984375 36.375 \r\nQ 6.984375 53.65625 15.1875 63.9375 \r\nQ 23.390625 74.21875 37.203125 74.21875 \r\nQ 40.921875 74.21875 44.703125 73.484375 \r\nQ 48.484375 72.75 52.59375 71.296875 \r\nz\r\n\" id=\"DejaVuSans-54\"/>\r\n       </defs>\r\n       <use xlink:href=\"#DejaVuSans-48\"/>\r\n       <use x=\"63.623047\" xlink:href=\"#DejaVuSans-46\"/>\r\n       <use x=\"95.410156\" xlink:href=\"#DejaVuSans-54\"/>\r\n      </g>\r\n     </g>\r\n    </g>\r\n    <g id=\"xtick_4\">\r\n     <g id=\"line2d_4\">\r\n      <g>\r\n       <use style=\"stroke:#000000;stroke-width:0.8;\" x=\"285.736898\" xlink:href=\"#m98d3d75310\" y=\"224.64\"/>\r\n      </g>\r\n     </g>\r\n     <g id=\"text_4\">\r\n      <!-- 0.8 -->\r\n      <g transform=\"translate(277.785335 239.238437)scale(0.1 -0.1)\">\r\n       <defs>\r\n        <path d=\"M 31.78125 34.625 \r\nQ 24.75 34.625 20.71875 30.859375 \r\nQ 16.703125 27.09375 16.703125 20.515625 \r\nQ 16.703125 13.921875 20.71875 10.15625 \r\nQ 24.75 6.390625 31.78125 6.390625 \r\nQ 38.8125 6.390625 42.859375 10.171875 \r\nQ 46.921875 13.96875 46.921875 20.515625 \r\nQ 46.921875 27.09375 42.890625 30.859375 \r\nQ 38.875 34.625 31.78125 34.625 \r\nz\r\nM 21.921875 38.8125 \r\nQ 15.578125 40.375 12.03125 44.71875 \r\nQ 8.5 49.078125 8.5 55.328125 \r\nQ 8.5 64.0625 14.71875 69.140625 \r\nQ 20.953125 74.21875 31.78125 74.21875 \r\nQ 42.671875 74.21875 48.875 69.140625 \r\nQ 55.078125 64.0625 55.078125 55.328125 \r\nQ 55.078125 49.078125 51.53125 44.71875 \r\nQ 48 40.375 41.703125 38.8125 \r\nQ 48.828125 37.15625 52.796875 32.3125 \r\nQ 56.78125 27.484375 56.78125 20.515625 \r\nQ 56.78125 9.90625 50.3125 4.234375 \r\nQ 43.84375 -1.421875 31.78125 -1.421875 \r\nQ 19.734375 -1.421875 13.25 4.234375 \r\nQ 6.78125 9.90625 6.78125 20.515625 \r\nQ 6.78125 27.484375 10.78125 32.3125 \r\nQ 14.796875 37.15625 21.921875 38.8125 \r\nz\r\nM 18.3125 54.390625 \r\nQ 18.3125 48.734375 21.84375 45.5625 \r\nQ 25.390625 42.390625 31.78125 42.390625 \r\nQ 38.140625 42.390625 41.71875 45.5625 \r\nQ 45.3125 48.734375 45.3125 54.390625 \r\nQ 45.3125 60.0625 41.71875 63.234375 \r\nQ 38.140625 66.40625 31.78125 66.40625 \r\nQ 25.390625 66.40625 21.84375 63.234375 \r\nQ 18.3125 60.0625 18.3125 54.390625 \r\nz\r\n\" id=\"DejaVuSans-56\"/>\r\n       </defs>\r\n       <use xlink:href=\"#DejaVuSans-48\"/>\r\n       <use x=\"63.623047\" xlink:href=\"#DejaVuSans-46\"/>\r\n       <use x=\"95.410156\" xlink:href=\"#DejaVuSans-56\"/>\r\n      </g>\r\n     </g>\r\n    </g>\r\n    <g id=\"xtick_5\">\r\n     <g id=\"line2d_5\">\r\n      <g>\r\n       <use style=\"stroke:#000000;stroke-width:0.8;\" x=\"359.14247\" xlink:href=\"#m98d3d75310\" y=\"224.64\"/>\r\n      </g>\r\n     </g>\r\n     <g id=\"text_5\">\r\n      <!-- 1.0 -->\r\n      <g transform=\"translate(351.190907 239.238437)scale(0.1 -0.1)\">\r\n       <defs>\r\n        <path d=\"M 12.40625 8.296875 \r\nL 28.515625 8.296875 \r\nL 28.515625 63.921875 \r\nL 10.984375 60.40625 \r\nL 10.984375 69.390625 \r\nL 28.421875 72.90625 \r\nL 38.28125 72.90625 \r\nL 38.28125 8.296875 \r\nL 54.390625 8.296875 \r\nL 54.390625 0 \r\nL 12.40625 0 \r\nz\r\n\" id=\"DejaVuSans-49\"/>\r\n       </defs>\r\n       <use xlink:href=\"#DejaVuSans-49\"/>\r\n       <use x=\"63.623047\" xlink:href=\"#DejaVuSans-46\"/>\r\n       <use x=\"95.410156\" xlink:href=\"#DejaVuSans-48\"/>\r\n      </g>\r\n     </g>\r\n    </g>\r\n   </g>\r\n   <g id=\"matplotlib.axis_2\">\r\n    <g id=\"ytick_1\">\r\n     <g id=\"line2d_6\">\r\n      <defs>\r\n       <path d=\"M 0 0 \r\nL -3.5 0 \r\n\" id=\"mc39bf98142\" style=\"stroke:#000000;stroke-width:0.8;\"/>\r\n      </defs>\r\n      <g>\r\n       <use style=\"stroke:#000000;stroke-width:0.8;\" x=\"30.103125\" xlink:href=\"#mc39bf98142\" y=\"203.085464\"/>\r\n      </g>\r\n     </g>\r\n     <g id=\"text_6\">\r\n      <!-- 0.1 -->\r\n      <g transform=\"translate(7.2 206.884682)scale(0.1 -0.1)\">\r\n       <use xlink:href=\"#DejaVuSans-48\"/>\r\n       <use x=\"63.623047\" xlink:href=\"#DejaVuSans-46\"/>\r\n       <use x=\"95.410156\" xlink:href=\"#DejaVuSans-49\"/>\r\n      </g>\r\n     </g>\r\n    </g>\r\n    <g id=\"ytick_2\">\r\n     <g id=\"line2d_7\">\r\n      <g>\r\n       <use style=\"stroke:#000000;stroke-width:0.8;\" x=\"30.103125\" xlink:href=\"#mc39bf98142\" y=\"177.947062\"/>\r\n      </g>\r\n     </g>\r\n     <g id=\"text_7\">\r\n      <!-- 0.2 -->\r\n      <g transform=\"translate(7.2 181.746281)scale(0.1 -0.1)\">\r\n       <use xlink:href=\"#DejaVuSans-48\"/>\r\n       <use x=\"63.623047\" xlink:href=\"#DejaVuSans-46\"/>\r\n       <use x=\"95.410156\" xlink:href=\"#DejaVuSans-50\"/>\r\n      </g>\r\n     </g>\r\n    </g>\r\n    <g id=\"ytick_3\">\r\n     <g id=\"line2d_8\">\r\n      <g>\r\n       <use style=\"stroke:#000000;stroke-width:0.8;\" x=\"30.103125\" xlink:href=\"#mc39bf98142\" y=\"152.80866\"/>\r\n      </g>\r\n     </g>\r\n     <g id=\"text_8\">\r\n      <!-- 0.3 -->\r\n      <g transform=\"translate(7.2 156.607879)scale(0.1 -0.1)\">\r\n       <defs>\r\n        <path d=\"M 40.578125 39.3125 \r\nQ 47.65625 37.796875 51.625 33 \r\nQ 55.609375 28.21875 55.609375 21.1875 \r\nQ 55.609375 10.40625 48.1875 4.484375 \r\nQ 40.765625 -1.421875 27.09375 -1.421875 \r\nQ 22.515625 -1.421875 17.65625 -0.515625 \r\nQ 12.796875 0.390625 7.625 2.203125 \r\nL 7.625 11.71875 \r\nQ 11.71875 9.328125 16.59375 8.109375 \r\nQ 21.484375 6.890625 26.8125 6.890625 \r\nQ 36.078125 6.890625 40.9375 10.546875 \r\nQ 45.796875 14.203125 45.796875 21.1875 \r\nQ 45.796875 27.640625 41.28125 31.265625 \r\nQ 36.765625 34.90625 28.71875 34.90625 \r\nL 20.21875 34.90625 \r\nL 20.21875 43.015625 \r\nL 29.109375 43.015625 \r\nQ 36.375 43.015625 40.234375 45.921875 \r\nQ 44.09375 48.828125 44.09375 54.296875 \r\nQ 44.09375 59.90625 40.109375 62.90625 \r\nQ 36.140625 65.921875 28.71875 65.921875 \r\nQ 24.65625 65.921875 20.015625 65.03125 \r\nQ 15.375 64.15625 9.8125 62.3125 \r\nL 9.8125 71.09375 \r\nQ 15.4375 72.65625 20.34375 73.4375 \r\nQ 25.25 74.21875 29.59375 74.21875 \r\nQ 40.828125 74.21875 47.359375 69.109375 \r\nQ 53.90625 64.015625 53.90625 55.328125 \r\nQ 53.90625 49.265625 50.4375 45.09375 \r\nQ 46.96875 40.921875 40.578125 39.3125 \r\nz\r\n\" id=\"DejaVuSans-51\"/>\r\n       </defs>\r\n       <use xlink:href=\"#DejaVuSans-48\"/>\r\n       <use x=\"63.623047\" xlink:href=\"#DejaVuSans-46\"/>\r\n       <use x=\"95.410156\" xlink:href=\"#DejaVuSans-51\"/>\r\n      </g>\r\n     </g>\r\n    </g>\r\n    <g id=\"ytick_4\">\r\n     <g id=\"line2d_9\">\r\n      <g>\r\n       <use style=\"stroke:#000000;stroke-width:0.8;\" x=\"30.103125\" xlink:href=\"#mc39bf98142\" y=\"127.670258\"/>\r\n      </g>\r\n     </g>\r\n     <g id=\"text_9\">\r\n      <!-- 0.4 -->\r\n      <g transform=\"translate(7.2 131.469477)scale(0.1 -0.1)\">\r\n       <use xlink:href=\"#DejaVuSans-48\"/>\r\n       <use x=\"63.623047\" xlink:href=\"#DejaVuSans-46\"/>\r\n       <use x=\"95.410156\" xlink:href=\"#DejaVuSans-52\"/>\r\n      </g>\r\n     </g>\r\n    </g>\r\n    <g id=\"ytick_5\">\r\n     <g id=\"line2d_10\">\r\n      <g>\r\n       <use style=\"stroke:#000000;stroke-width:0.8;\" x=\"30.103125\" xlink:href=\"#mc39bf98142\" y=\"102.531857\"/>\r\n      </g>\r\n     </g>\r\n     <g id=\"text_10\">\r\n      <!-- 0.5 -->\r\n      <g transform=\"translate(7.2 106.331075)scale(0.1 -0.1)\">\r\n       <defs>\r\n        <path d=\"M 10.796875 72.90625 \r\nL 49.515625 72.90625 \r\nL 49.515625 64.59375 \r\nL 19.828125 64.59375 \r\nL 19.828125 46.734375 \r\nQ 21.96875 47.46875 24.109375 47.828125 \r\nQ 26.265625 48.1875 28.421875 48.1875 \r\nQ 40.625 48.1875 47.75 41.5 \r\nQ 54.890625 34.8125 54.890625 23.390625 \r\nQ 54.890625 11.625 47.5625 5.09375 \r\nQ 40.234375 -1.421875 26.90625 -1.421875 \r\nQ 22.3125 -1.421875 17.546875 -0.640625 \r\nQ 12.796875 0.140625 7.71875 1.703125 \r\nL 7.71875 11.625 \r\nQ 12.109375 9.234375 16.796875 8.0625 \r\nQ 21.484375 6.890625 26.703125 6.890625 \r\nQ 35.15625 6.890625 40.078125 11.328125 \r\nQ 45.015625 15.765625 45.015625 23.390625 \r\nQ 45.015625 31 40.078125 35.4375 \r\nQ 35.15625 39.890625 26.703125 39.890625 \r\nQ 22.75 39.890625 18.8125 39.015625 \r\nQ 14.890625 38.140625 10.796875 36.28125 \r\nz\r\n\" id=\"DejaVuSans-53\"/>\r\n       </defs>\r\n       <use xlink:href=\"#DejaVuSans-48\"/>\r\n       <use x=\"63.623047\" xlink:href=\"#DejaVuSans-46\"/>\r\n       <use x=\"95.410156\" xlink:href=\"#DejaVuSans-53\"/>\r\n      </g>\r\n     </g>\r\n    </g>\r\n    <g id=\"ytick_6\">\r\n     <g id=\"line2d_11\">\r\n      <g>\r\n       <use style=\"stroke:#000000;stroke-width:0.8;\" x=\"30.103125\" xlink:href=\"#mc39bf98142\" y=\"77.393455\"/>\r\n      </g>\r\n     </g>\r\n     <g id=\"text_11\">\r\n      <!-- 0.6 -->\r\n      <g transform=\"translate(7.2 81.192674)scale(0.1 -0.1)\">\r\n       <use xlink:href=\"#DejaVuSans-48\"/>\r\n       <use x=\"63.623047\" xlink:href=\"#DejaVuSans-46\"/>\r\n       <use x=\"95.410156\" xlink:href=\"#DejaVuSans-54\"/>\r\n      </g>\r\n     </g>\r\n    </g>\r\n    <g id=\"ytick_7\">\r\n     <g id=\"line2d_12\">\r\n      <g>\r\n       <use style=\"stroke:#000000;stroke-width:0.8;\" x=\"30.103125\" xlink:href=\"#mc39bf98142\" y=\"52.255053\"/>\r\n      </g>\r\n     </g>\r\n     <g id=\"text_12\">\r\n      <!-- 0.7 -->\r\n      <g transform=\"translate(7.2 56.054272)scale(0.1 -0.1)\">\r\n       <defs>\r\n        <path d=\"M 8.203125 72.90625 \r\nL 55.078125 72.90625 \r\nL 55.078125 68.703125 \r\nL 28.609375 0 \r\nL 18.3125 0 \r\nL 43.21875 64.59375 \r\nL 8.203125 64.59375 \r\nz\r\n\" id=\"DejaVuSans-55\"/>\r\n       </defs>\r\n       <use xlink:href=\"#DejaVuSans-48\"/>\r\n       <use x=\"63.623047\" xlink:href=\"#DejaVuSans-46\"/>\r\n       <use x=\"95.410156\" xlink:href=\"#DejaVuSans-55\"/>\r\n      </g>\r\n     </g>\r\n    </g>\r\n    <g id=\"ytick_8\">\r\n     <g id=\"line2d_13\">\r\n      <g>\r\n       <use style=\"stroke:#000000;stroke-width:0.8;\" x=\"30.103125\" xlink:href=\"#mc39bf98142\" y=\"27.116651\"/>\r\n      </g>\r\n     </g>\r\n     <g id=\"text_13\">\r\n      <!-- 0.8 -->\r\n      <g transform=\"translate(7.2 30.91587)scale(0.1 -0.1)\">\r\n       <use xlink:href=\"#DejaVuSans-48\"/>\r\n       <use x=\"63.623047\" xlink:href=\"#DejaVuSans-46\"/>\r\n       <use x=\"95.410156\" xlink:href=\"#DejaVuSans-56\"/>\r\n      </g>\r\n     </g>\r\n    </g>\r\n   </g>\r\n   <g id=\"patch_3\">\r\n    <path d=\"M 30.103125 224.64 \r\nL 30.103125 7.2 \r\n\" style=\"fill:none;stroke:#000000;stroke-linecap:square;stroke-linejoin:miter;stroke-width:0.8;\"/>\r\n   </g>\r\n   <g id=\"patch_4\">\r\n    <path d=\"M 364.903125 224.64 \r\nL 364.903125 7.2 \r\n\" style=\"fill:none;stroke:#000000;stroke-linecap:square;stroke-linejoin:miter;stroke-width:0.8;\"/>\r\n   </g>\r\n   <g id=\"patch_5\">\r\n    <path d=\"M 30.103125 224.64 \r\nL 364.903125 224.64 \r\n\" style=\"fill:none;stroke:#000000;stroke-linecap:square;stroke-linejoin:miter;stroke-width:0.8;\"/>\r\n   </g>\r\n   <g id=\"patch_6\">\r\n    <path d=\"M 30.103125 7.2 \r\nL 364.903125 7.2 \r\n\" style=\"fill:none;stroke:#000000;stroke-linecap:square;stroke-linejoin:miter;stroke-width:0.8;\"/>\r\n   </g>\r\n  </g>\r\n </g>\r\n <defs>\r\n  <clipPath id=\"p5460c76379\">\r\n   <rect height=\"217.44\" width=\"334.8\" x=\"30.103125\" y=\"7.2\"/>\r\n  </clipPath>\r\n </defs>\r\n</svg>\r\n",
      "image/png": "[encoded data removed]"
     },
     "metadata": {
      "needs_background": "light"
     }
    }
   ],
   "source": [
    "plt.scatter(v2[:,0], v2[:,1], marker=matplotlib.markers.CARETRIGHT)"
   ]
  },
  {
   "cell_type": "code",
   "execution_count": 75,
   "metadata": {},
   "outputs": [],
   "source": [
    "import matplotlib.transforms"
   ]
  },
  {
   "cell_type": "code",
   "execution_count": 81,
   "metadata": {},
   "outputs": [],
   "source": [
    "rotate = matplotlib.transforms.Affine2D().rotate(0.3*np.pi)"
   ]
  },
  {
   "cell_type": "code",
   "execution_count": 82,
   "metadata": {},
   "outputs": [
    {
     "output_type": "execute_result",
     "data": {
      "text/plain": [
       "array([[ 0.58778525, -0.80901699,  0.        ],\n",
       "       [ 0.80901699,  0.58778525,  0.        ],\n",
       "       [ 0.        ,  0.        ,  1.        ]])"
      ]
     },
     "metadata": {},
     "execution_count": 82
    }
   ],
   "source": [
    "rotate.get_matrix()"
   ]
  },
  {
   "cell_type": "code",
   "execution_count": null,
   "metadata": {},
   "outputs": [],
   "source": []
  }
 ]
}